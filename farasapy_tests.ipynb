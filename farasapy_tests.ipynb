{
  "nbformat": 4,
  "nbformat_minor": 0,
  "metadata": {
    "colab": {
      "provenance": [],
      "include_colab_link": true
    },
    "kernelspec": {
      "name": "python3",
      "display_name": "Python 3"
    }
  },
  "cells": [
    {
      "cell_type": "markdown",
      "metadata": {
        "id": "view-in-github",
        "colab_type": "text"
      },
      "source": [
        "<a href=\"https://colab.research.google.com/github/Abhilitcode/DaveAI_Internship/blob/main/farasapy_tests.ipynb\" target=\"_parent\"><img src=\"https://colab.research.google.com/assets/colab-badge.svg\" alt=\"Open In Colab\"/></a>"
      ]
    },
    {
      "cell_type": "markdown",
      "metadata": {
        "id": "HXd-laxRM2C-"
      },
      "source": [
        "## Farasapy (Interactive Session)\n",
        "\n"
      ]
    },
    {
      "cell_type": "markdown",
      "metadata": {
        "id": "ESBXl3vxM7Bd"
      },
      "source": [
        "This is a live preview for `farasapy` library."
      ]
    },
    {
      "cell_type": "markdown",
      "metadata": {
        "id": "vTxH4K1TNOGn"
      },
      "source": [
        "## install"
      ]
    },
    {
      "cell_type": "code",
      "source": [
        "!pip install uroman"
      ],
      "metadata": {
        "id": "lVtqzl__ulhL",
        "outputId": "cbd3eb63-dfe5-4a18-b9a8-d0adc826a7d1",
        "colab": {
          "base_uri": "https://localhost:8080/"
        }
      },
      "execution_count": 26,
      "outputs": [
        {
          "output_type": "stream",
          "name": "stdout",
          "text": [
            "Collecting uroman\n",
            "  Downloading uroman-1.3.1.1-py3-none-any.whl.metadata (18 kB)\n",
            "Requirement already satisfied: regex>=2024.5.15 in /usr/local/lib/python3.10/dist-packages (from uroman) (2024.9.11)\n",
            "Downloading uroman-1.3.1.1-py3-none-any.whl (930 kB)\n",
            "\u001b[2K   \u001b[90m━━━━━━━━━━━━━━━━━━━━━━━━━━━━━━━━━━━━━━━━\u001b[0m \u001b[32m930.7/930.7 kB\u001b[0m \u001b[31m12.1 MB/s\u001b[0m eta \u001b[36m0:00:00\u001b[0m\n",
            "\u001b[?25hInstalling collected packages: uroman\n",
            "Successfully installed uroman-1.3.1.1\n"
          ]
        }
      ]
    },
    {
      "cell_type": "code",
      "metadata": {
        "id": "nUtKdhhMnJtB",
        "colab": {
          "base_uri": "https://localhost:8080/"
        },
        "outputId": "400b5725-39b6-40ae-ca30-4c6d49bd545f"
      },
      "source": [
        "pip  install -U farasapy"
      ],
      "execution_count": 1,
      "outputs": [
        {
          "output_type": "stream",
          "name": "stdout",
          "text": [
            "Collecting farasapy\n",
            "  Downloading farasapy-0.0.14-py3-none-any.whl.metadata (8.9 kB)\n",
            "Requirement already satisfied: requests in /usr/local/lib/python3.10/dist-packages (from farasapy) (2.32.3)\n",
            "Requirement already satisfied: tqdm in /usr/local/lib/python3.10/dist-packages (from farasapy) (4.66.5)\n",
            "Requirement already satisfied: charset-normalizer<4,>=2 in /usr/local/lib/python3.10/dist-packages (from requests->farasapy) (3.3.2)\n",
            "Requirement already satisfied: idna<4,>=2.5 in /usr/local/lib/python3.10/dist-packages (from requests->farasapy) (3.10)\n",
            "Requirement already satisfied: urllib3<3,>=1.21.1 in /usr/local/lib/python3.10/dist-packages (from requests->farasapy) (2.2.3)\n",
            "Requirement already satisfied: certifi>=2017.4.17 in /usr/local/lib/python3.10/dist-packages (from requests->farasapy) (2024.8.30)\n",
            "Downloading farasapy-0.0.14-py3-none-any.whl (11 kB)\n",
            "Installing collected packages: farasapy\n",
            "Successfully installed farasapy-0.0.14\n"
          ]
        }
      ]
    },
    {
      "cell_type": "markdown",
      "metadata": {
        "id": "1rrvXtQ3NMAM"
      },
      "source": [
        "## import"
      ]
    },
    {
      "cell_type": "code",
      "source": [
        "import uroman\n",
        "ur = uroman.Uroman()"
      ],
      "metadata": {
        "id": "NJjpoox0uuJS"
      },
      "execution_count": 27,
      "outputs": []
    },
    {
      "cell_type": "code",
      "metadata": {
        "id": "xlE4sCELNBXZ"
      },
      "source": [
        "from farasa.pos import FarasaPOSTagger\n",
        "from farasa.ner import FarasaNamedEntityRecognizer\n",
        "from farasa.diacratizer import FarasaDiacritizer\n",
        "from farasa.segmenter import FarasaSegmenter\n",
        "from farasa.stemmer import FarasaStemmer"
      ],
      "execution_count": 2,
      "outputs": []
    },
    {
      "cell_type": "markdown",
      "metadata": {
        "id": "tTLgs_CQNW-a"
      },
      "source": [
        "Sample"
      ]
    },
    {
      "cell_type": "markdown",
      "metadata": {
        "id": "4yBgQ4j4NY32"
      },
      "source": [
        "You can put any sample here and watch out the results"
      ]
    },
    {
      "cell_type": "code",
      "metadata": {
        "id": "yivCWdyONUrF"
      },
      "source": [
        "#source: https://r12a.github.io/scripts/tutorial/summaries/arabic\n",
        "sample =\\\n",
        "'''\n",
        "أنت فتى جيد\n",
        "'''"
      ],
      "execution_count": 53,
      "outputs": []
    },
    {
      "cell_type": "code",
      "metadata": {
        "id": "Mhnjjd1PNpP3",
        "colab": {
          "base_uri": "https://localhost:8080/"
        },
        "outputId": "310c0e12-049f-4395-d3d1-a73afea2b704"
      },
      "source": [
        "print(\"original sample:\",sample)"
      ],
      "execution_count": 54,
      "outputs": [
        {
          "output_type": "stream",
          "name": "stdout",
          "text": [
            "original sample: \n",
            "أنت فتى جيد\n",
            "\n"
          ]
        }
      ]
    },
    {
      "cell_type": "markdown",
      "metadata": {
        "id": "IQ_089xPNiNZ"
      },
      "source": [
        "## Standalone Mode"
      ]
    },
    {
      "cell_type": "markdown",
      "metadata": {
        "id": "PikxQIcTSl_R"
      },
      "source": [
        "### Segmenter"
      ]
    },
    {
      "cell_type": "code",
      "metadata": {
        "id": "d_SOgAIfNg-l"
      },
      "source": [
        "segmenter = FarasaSegmenter()"
      ],
      "execution_count": 55,
      "outputs": []
    },
    {
      "cell_type": "code",
      "metadata": {
        "id": "K-NvYPqLN0R3",
        "colab": {
          "base_uri": "https://localhost:8080/"
        },
        "outputId": "bc43fc43-5ce6-4cbc-ff25-10ee62054745"
      },
      "source": [
        "segmented = segmenter.segment(sample)\n",
        "print(\"sample segmented:\",segmented)"
      ],
      "execution_count": 56,
      "outputs": [
        {
          "output_type": "stream",
          "name": "stdout",
          "text": [
            "sample segmented: أنت فتى جيد\n"
          ]
        }
      ]
    },
    {
      "cell_type": "markdown",
      "metadata": {
        "id": "74xm2UgnSoPz"
      },
      "source": [
        "### Stemmer"
      ]
    },
    {
      "cell_type": "code",
      "metadata": {
        "id": "tpYmbysVRfiu"
      },
      "source": [
        "stemmer = FarasaStemmer()"
      ],
      "execution_count": 57,
      "outputs": []
    },
    {
      "cell_type": "code",
      "metadata": {
        "id": "tn9qwsYgSsHx",
        "colab": {
          "base_uri": "https://localhost:8080/"
        },
        "outputId": "abf480fa-92a2-4640-8cf3-c2611fd70aa3"
      },
      "source": [
        "stemmed = stemmer.stem(sample)\n",
        "print(\"sample stemmed:\",stemmed)"
      ],
      "execution_count": 58,
      "outputs": [
        {
          "output_type": "stream",
          "name": "stdout",
          "text": [
            "sample stemmed: أنت فتى جيد\n"
          ]
        }
      ]
    },
    {
      "cell_type": "markdown",
      "metadata": {
        "id": "HgtHdyWFSxnd"
      },
      "source": [
        "### POS Tagger"
      ]
    },
    {
      "cell_type": "code",
      "metadata": {
        "id": "vyVlchIDSulg"
      },
      "source": [
        "pos_tagger = FarasaPOSTagger()"
      ],
      "execution_count": 59,
      "outputs": []
    },
    {
      "cell_type": "code",
      "metadata": {
        "id": "3FjJTxwpS05x",
        "colab": {
          "base_uri": "https://localhost:8080/"
        },
        "outputId": "9f160ef8-dda2-47a4-830b-0c0a4bd8b0c6"
      },
      "source": [
        "pos_tagged = pos_tagger.tag(sample)\n",
        "print(\"sample POS Tagged\",pos_tagged)"
      ],
      "execution_count": 60,
      "outputs": [
        {
          "output_type": "stream",
          "name": "stdout",
          "text": [
            "sample POS Tagged S/S أنت/PRON فتى/NOUN-MS جيد/ADJ-MS E/E\n"
          ]
        }
      ]
    },
    {
      "cell_type": "markdown",
      "metadata": {
        "id": "1NOY--mWS3nu"
      },
      "source": [
        "### Farasa Named Entity Recognition"
      ]
    },
    {
      "cell_type": "code",
      "metadata": {
        "id": "T_9onJaBS2OT"
      },
      "source": [
        "named_entity_recognizer = FarasaNamedEntityRecognizer()"
      ],
      "execution_count": 61,
      "outputs": []
    },
    {
      "cell_type": "code",
      "metadata": {
        "id": "Aq5sRwFqS-NB",
        "colab": {
          "base_uri": "https://localhost:8080/"
        },
        "outputId": "c3edb19b-8f8d-43b4-d0cf-07557bf68fa1"
      },
      "source": [
        "named_entity_recognized = named_entity_recognizer.recognize(sample)\n",
        "print(\"sample named entity recognized:\",named_entity_recognized)"
      ],
      "execution_count": 62,
      "outputs": [
        {
          "output_type": "stream",
          "name": "stdout",
          "text": [
            "sample named entity recognized: أنت/O فتى/O جيد/O\n"
          ]
        }
      ]
    },
    {
      "cell_type": "markdown",
      "metadata": {
        "id": "vViFiNxzTBaO"
      },
      "source": [
        "### Diacritizer"
      ]
    },
    {
      "cell_type": "code",
      "metadata": {
        "id": "Fvu3MeAeS_2C"
      },
      "source": [
        "diacritizer = FarasaDiacritizer()"
      ],
      "execution_count": 63,
      "outputs": []
    },
    {
      "cell_type": "code",
      "metadata": {
        "id": "qIje7KmQTEQJ",
        "colab": {
          "base_uri": "https://localhost:8080/"
        },
        "outputId": "c63a9c40-49b2-4319-a3f2-aaeb9ba6f37b"
      },
      "source": [
        "diacritized = diacritizer.diacritize(sample)\n",
        "print(\"sample diacritized:\",diacritized)"
      ],
      "execution_count": 64,
      "outputs": [
        {
          "output_type": "stream",
          "name": "stdout",
          "text": [
            "sample diacritized: أَنْتَ فَتًى جَيِّدٌ\n"
          ]
        }
      ]
    },
    {
      "cell_type": "markdown",
      "metadata": {
        "id": "znNJ2ih-TG_q"
      },
      "source": [
        "## Interactive Mode"
      ]
    },
    {
      "cell_type": "markdown",
      "metadata": {
        "id": "ZlQgD0aLTfcZ"
      },
      "source": [
        "### Segmenter"
      ]
    },
    {
      "cell_type": "code",
      "metadata": {
        "id": "52BcDP9kTFw7",
        "colab": {
          "base_uri": "https://localhost:8080/"
        },
        "outputId": "e0fc993a-817e-484f-d545-b55925747771"
      },
      "source": [
        "segmenter_interactive = FarasaSegmenter(interactive=True)"
      ],
      "execution_count": 65,
      "outputs": [
        {
          "output_type": "stream",
          "name": "stderr",
          "text": [
            "[2024-10-10 14:22:14,837 - farasapy_logger - WARNING]: Be careful with large lines as they may break on interactive mode. You may switch to Standalone mode for such cases.\n"
          ]
        }
      ]
    },
    {
      "cell_type": "code",
      "metadata": {
        "id": "DjzSrZI4TOBB",
        "colab": {
          "base_uri": "https://localhost:8080/"
        },
        "outputId": "ecfd3c7e-7be3-4f96-a0ce-bfc90dbcf05d"
      },
      "source": [
        "segmented_interactive = segmenter_interactive.segment(sample)\n",
        "print(\"sample segmented (interactive):\",segmented_interactive)\n",
        "# terminate the object to save resources:\n",
        "segmenter_interactive.terminate()"
      ],
      "execution_count": 66,
      "outputs": [
        {
          "output_type": "stream",
          "name": "stdout",
          "text": [
            "sample segmented (interactive): أنت فتى جيد\n"
          ]
        }
      ]
    },
    {
      "cell_type": "markdown",
      "metadata": {
        "id": "DXooH_v8Thr8"
      },
      "source": [
        "### Stemmer"
      ]
    },
    {
      "cell_type": "code",
      "metadata": {
        "id": "a0mP1MBYTPtr",
        "colab": {
          "base_uri": "https://localhost:8080/"
        },
        "outputId": "b6572276-d075-4664-de57-e5a5261a18b5"
      },
      "source": [
        "stemmer_interactive = FarasaStemmer(interactive=True)"
      ],
      "execution_count": 67,
      "outputs": [
        {
          "output_type": "stream",
          "name": "stderr",
          "text": [
            "[2024-10-10 14:22:19,854 - farasapy_logger - WARNING]: Be careful with large lines as they may break on interactive mode. You may switch to Standalone mode for such cases.\n"
          ]
        }
      ]
    },
    {
      "cell_type": "code",
      "metadata": {
        "id": "zqp2rOEhTRMn",
        "colab": {
          "base_uri": "https://localhost:8080/"
        },
        "outputId": "973069e6-b0de-4724-f599-706e1a43c278"
      },
      "source": [
        "stemmed_interactive = stemmer_interactive.stem(sample)\n",
        "print(\"sample stemmed (interactive):\",stemmed_interactive)\n",
        "# terminate the object to save resources:\n",
        "stemmer_interactive.terminate()"
      ],
      "execution_count": 68,
      "outputs": [
        {
          "output_type": "stream",
          "name": "stdout",
          "text": [
            "sample stemmed (interactive): أنت فتى جيد\n"
          ]
        }
      ]
    },
    {
      "cell_type": "markdown",
      "metadata": {
        "id": "ZJGENTFQTjfN"
      },
      "source": [
        "### POS Tagger"
      ]
    },
    {
      "cell_type": "code",
      "metadata": {
        "id": "e6pWgOQjTSnl",
        "colab": {
          "base_uri": "https://localhost:8080/"
        },
        "outputId": "304a6e1a-2866-4991-cc17-a7e35918ae42"
      },
      "source": [
        "pos_tagger_interactive = FarasaPOSTagger(interactive=True)"
      ],
      "execution_count": 69,
      "outputs": [
        {
          "output_type": "stream",
          "name": "stderr",
          "text": [
            "[2024-10-10 14:22:26,018 - farasapy_logger - WARNING]: Be careful with large lines as they may break on interactive mode. You may switch to Standalone mode for such cases.\n"
          ]
        }
      ]
    },
    {
      "cell_type": "code",
      "metadata": {
        "id": "KDb_JI2wTUcI",
        "colab": {
          "base_uri": "https://localhost:8080/"
        },
        "outputId": "de595323-9dd9-4647-c575-03463cd804d0"
      },
      "source": [
        "pos_tagged_interactive = pos_tagger_interactive.tag(sample)\n",
        "print(\"sample POS Tagged (interactive)\",pos_tagged_interactive)\n",
        "# terminate the object to save resources:\n",
        "pos_tagger_interactive.terminate()"
      ],
      "execution_count": 70,
      "outputs": [
        {
          "output_type": "stream",
          "name": "stdout",
          "text": [
            "sample POS Tagged (interactive) S/S أنت/PRON فتى/NOUN-MS جيد/ADJ-MS E/E\n"
          ]
        }
      ]
    },
    {
      "cell_type": "markdown",
      "metadata": {
        "id": "VCNkpgRpTl8V"
      },
      "source": [
        "### Named Entity Reconition"
      ]
    },
    {
      "cell_type": "code",
      "metadata": {
        "id": "6hAfUgEeTV1V",
        "colab": {
          "base_uri": "https://localhost:8080/"
        },
        "outputId": "4efaddcf-3c87-489f-bbbd-670803e6d08c"
      },
      "source": [
        "named_entity_recognizer_interactive = FarasaNamedEntityRecognizer(interactive=True)"
      ],
      "execution_count": 71,
      "outputs": [
        {
          "output_type": "stream",
          "name": "stderr",
          "text": [
            "[2024-10-10 14:22:43,539 - farasapy_logger - WARNING]: Be careful with large lines as they may break on interactive mode. You may switch to Standalone mode for such cases.\n"
          ]
        }
      ]
    },
    {
      "cell_type": "code",
      "metadata": {
        "id": "e9uPEGw1TXmh",
        "colab": {
          "base_uri": "https://localhost:8080/"
        },
        "outputId": "b6f76e39-9a9c-4472-a16e-b6d8c38dacf5"
      },
      "source": [
        "named_entity_recognized_interactive = named_entity_recognizer_interactive.recognize(sample)\n",
        "print(\"sample named entity recognized (interactive):\",named_entity_recognized_interactive)\n",
        "# terminate the object to save resources:\n",
        "named_entity_recognizer_interactive.terminate()"
      ],
      "execution_count": 72,
      "outputs": [
        {
          "output_type": "stream",
          "name": "stdout",
          "text": [
            "sample named entity recognized (interactive): أنت/O فتى/O جيد/O\n"
          ]
        }
      ]
    },
    {
      "cell_type": "markdown",
      "metadata": {
        "id": "CAVxQNRDTpJZ"
      },
      "source": [
        "### Diacritizer"
      ]
    },
    {
      "cell_type": "code",
      "metadata": {
        "id": "gjyZtL9OTZEZ",
        "colab": {
          "base_uri": "https://localhost:8080/"
        },
        "outputId": "9cf78906-0329-4896-8505-3220e9eeb480"
      },
      "source": [
        "diacritizer_interactive = FarasaDiacritizer(interactive=True)"
      ],
      "execution_count": 73,
      "outputs": [
        {
          "output_type": "stream",
          "name": "stderr",
          "text": [
            "[2024-10-10 14:23:10,763 - farasapy_logger - WARNING]: Be careful with large lines as they may break on interactive mode. You may switch to Standalone mode for such cases.\n"
          ]
        }
      ]
    },
    {
      "cell_type": "code",
      "metadata": {
        "id": "wkovt8hvTabq",
        "colab": {
          "base_uri": "https://localhost:8080/"
        },
        "outputId": "26f11dd4-8e11-43b7-ad81-ab0ed385e6c8"
      },
      "source": [
        "diacritized_interactive = diacritizer_interactive.diacritize(sample)\n",
        "print(\"sample diacritized (interactive):\",diacritized_interactive)\n",
        "# terminate the object to save resources:\n",
        "diacritizer_interactive.terminate()"
      ],
      "execution_count": 74,
      "outputs": [
        {
          "output_type": "stream",
          "name": "stdout",
          "text": [
            "sample diacritized (interactive): أَنْتَ فَتًى جَيِّدٌ\n"
          ]
        }
      ]
    },
    {
      "cell_type": "code",
      "source": [
        "diacritized = diacritizer.diacritize(sample)\n",
        "print(\"Diacritized Arabic:\", diacritized)\n"
      ],
      "metadata": {
        "id": "hdVprsQCtHQA",
        "outputId": "83c66f64-f3f1-4631-f0b6-20f359dd581d",
        "colab": {
          "base_uri": "https://localhost:8080/"
        }
      },
      "execution_count": 75,
      "outputs": [
        {
          "output_type": "stream",
          "name": "stdout",
          "text": [
            "Diacritized Arabic: أَنْتَ فَتًى جَيِّدٌ\n"
          ]
        }
      ]
    },
    {
      "cell_type": "code",
      "source": [
        "romanized_arabic_text = ur.romanize_string(diacritized)\n",
        "# normalized_arabic_text = normalize_uroman(romanized_arabic_text)\n",
        "print(\"Romanized Arabic:\", romanized_arabic_text)\n",
        "# print(\"Normalized Romanized Arabic:\", normalized_arabic_text)"
      ],
      "metadata": {
        "id": "Mv_JUOWQtjZL",
        "outputId": "56be3a16-f5a5-4854-9655-d64beafbadbc",
        "colab": {
          "base_uri": "https://localhost:8080/"
        }
      },
      "execution_count": 76,
      "outputs": [
        {
          "output_type": "stream",
          "name": "stdout",
          "text": [
            "Romanized Arabic: aanta fata jayid\n"
          ]
        }
      ]
    }
  ]
}