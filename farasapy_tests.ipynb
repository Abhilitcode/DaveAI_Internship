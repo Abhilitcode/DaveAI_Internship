{
  "nbformat": 4,
  "nbformat_minor": 0,
  "metadata": {
    "colab": {
      "provenance": [],
      "include_colab_link": true
    },
    "kernelspec": {
      "name": "python3",
      "display_name": "Python 3"
    }
  },
  "cells": [
    {
      "cell_type": "markdown",
      "metadata": {
        "id": "view-in-github",
        "colab_type": "text"
      },
      "source": [
        "<a href=\"https://colab.research.google.com/github/Abhilitcode/DaveAI_Internship/blob/main/farasapy_tests.ipynb\" target=\"_parent\"><img src=\"https://colab.research.google.com/assets/colab-badge.svg\" alt=\"Open In Colab\"/></a>"
      ]
    },
    {
      "cell_type": "markdown",
      "metadata": {
        "id": "HXd-laxRM2C-"
      },
      "source": [
        "## Farasapy (Interactive Session)\n",
        "\n"
      ]
    },
    {
      "cell_type": "markdown",
      "metadata": {
        "id": "ESBXl3vxM7Bd"
      },
      "source": [
        "This is a live preview for `farasapy` library."
      ]
    },
    {
      "cell_type": "markdown",
      "metadata": {
        "id": "vTxH4K1TNOGn"
      },
      "source": [
        "## install"
      ]
    },
    {
      "cell_type": "code",
      "source": [
        "!pip install uroman"
      ],
      "metadata": {
        "id": "lVtqzl__ulhL",
        "outputId": "ebc63db6-73d6-46e6-ca40-e38ba7bcd986",
        "colab": {
          "base_uri": "https://localhost:8080/"
        }
      },
      "execution_count": 1,
      "outputs": [
        {
          "output_type": "stream",
          "name": "stdout",
          "text": [
            "Requirement already satisfied: uroman in /usr/local/lib/python3.10/dist-packages (1.3.1.1)\n",
            "Requirement already satisfied: regex>=2024.5.15 in /usr/local/lib/python3.10/dist-packages (from uroman) (2024.9.11)\n"
          ]
        }
      ]
    },
    {
      "cell_type": "code",
      "metadata": {
        "id": "nUtKdhhMnJtB",
        "colab": {
          "base_uri": "https://localhost:8080/"
        },
        "outputId": "c2fbaa7c-1bfb-4f02-a924-c09e62e72efe"
      },
      "source": [
        "pip  install -U farasapy"
      ],
      "execution_count": 2,
      "outputs": [
        {
          "output_type": "stream",
          "name": "stdout",
          "text": [
            "Requirement already satisfied: farasapy in /usr/local/lib/python3.10/dist-packages (0.0.14)\n",
            "Requirement already satisfied: requests in /usr/local/lib/python3.10/dist-packages (from farasapy) (2.32.3)\n",
            "Requirement already satisfied: tqdm in /usr/local/lib/python3.10/dist-packages (from farasapy) (4.66.5)\n",
            "Requirement already satisfied: charset-normalizer<4,>=2 in /usr/local/lib/python3.10/dist-packages (from requests->farasapy) (3.3.2)\n",
            "Requirement already satisfied: idna<4,>=2.5 in /usr/local/lib/python3.10/dist-packages (from requests->farasapy) (3.10)\n",
            "Requirement already satisfied: urllib3<3,>=1.21.1 in /usr/local/lib/python3.10/dist-packages (from requests->farasapy) (2.2.3)\n",
            "Requirement already satisfied: certifi>=2017.4.17 in /usr/local/lib/python3.10/dist-packages (from requests->farasapy) (2024.8.30)\n"
          ]
        }
      ]
    },
    {
      "cell_type": "markdown",
      "metadata": {
        "id": "1rrvXtQ3NMAM"
      },
      "source": [
        "## import"
      ]
    },
    {
      "cell_type": "code",
      "source": [
        "import uroman\n",
        "ur = uroman.Uroman()"
      ],
      "metadata": {
        "id": "NJjpoox0uuJS"
      },
      "execution_count": 3,
      "outputs": []
    },
    {
      "cell_type": "code",
      "metadata": {
        "id": "xlE4sCELNBXZ"
      },
      "source": [
        "from farasa.pos import FarasaPOSTagger\n",
        "from farasa.ner import FarasaNamedEntityRecognizer\n",
        "from farasa.diacratizer import FarasaDiacritizer\n",
        "from farasa.segmenter import FarasaSegmenter\n",
        "from farasa.stemmer import FarasaStemmer"
      ],
      "execution_count": 4,
      "outputs": []
    },
    {
      "cell_type": "markdown",
      "metadata": {
        "id": "tTLgs_CQNW-a"
      },
      "source": [
        "Sample"
      ]
    },
    {
      "cell_type": "markdown",
      "metadata": {
        "id": "4yBgQ4j4NY32"
      },
      "source": [
        "You can put any sample here and watch out the results"
      ]
    },
    {
      "cell_type": "code",
      "metadata": {
        "id": "yivCWdyONUrF"
      },
      "source": [
        "#source: https://r12a.github.io/scripts/tutorial/summaries/arabic\n",
        "sample =\\\n",
        "'''\n",
        "مرحبا، كيف حالك؟\n",
        "'''"
      ],
      "execution_count": 23,
      "outputs": []
    },
    {
      "cell_type": "code",
      "metadata": {
        "id": "Mhnjjd1PNpP3",
        "colab": {
          "base_uri": "https://localhost:8080/"
        },
        "outputId": "ca9c9e8c-d2a6-42fe-d237-12c724d1cacb"
      },
      "source": [
        "print(\"original sample:\",sample)"
      ],
      "execution_count": 15,
      "outputs": [
        {
          "output_type": "stream",
          "name": "stdout",
          "text": [
            "original sample: \n",
            "مرحبا، كيف حالك؟\n",
            "\n"
          ]
        }
      ]
    },
    {
      "cell_type": "markdown",
      "metadata": {
        "id": "IQ_089xPNiNZ"
      },
      "source": [
        "## Standalone Mode"
      ]
    },
    {
      "cell_type": "markdown",
      "metadata": {
        "id": "PikxQIcTSl_R"
      },
      "source": [
        "### Segmenter"
      ]
    },
    {
      "cell_type": "code",
      "metadata": {
        "id": "d_SOgAIfNg-l",
        "outputId": "27d12498-3d02-475c-ce6e-4f7c36445417",
        "colab": {
          "base_uri": "https://localhost:8080/"
        }
      },
      "source": [
        "segmenter = FarasaSegmenter()"
      ],
      "execution_count": 7,
      "outputs": [
        {
          "output_type": "stream",
          "name": "stderr",
          "text": [
            "/usr/local/lib/python3.10/dist-packages/urllib3/connectionpool.py:1099: InsecureRequestWarning: Unverified HTTPS request is being made to host 'farasa-api.qcri.org'. Adding certificate verification is strongly advised. See: https://urllib3.readthedocs.io/en/latest/advanced-usage.html#tls-warnings\n",
            "  warnings.warn(\n"
          ]
        },
        {
          "output_type": "stream",
          "name": "stdout",
          "text": [
            "100%|██████████| 241M/241M [03:32<00:00, 1.14MiB/s]\n"
          ]
        }
      ]
    },
    {
      "cell_type": "code",
      "metadata": {
        "id": "K-NvYPqLN0R3",
        "colab": {
          "base_uri": "https://localhost:8080/"
        },
        "outputId": "90627dcd-bce5-4b84-f8c8-2b74d11bcc0c"
      },
      "source": [
        "segmented = segmenter.segment(sample)\n",
        "print(\"sample segmented:\",segmented)"
      ],
      "execution_count": 8,
      "outputs": [
        {
          "output_type": "stream",
          "name": "stdout",
          "text": [
            "sample segmented: أنت فتى جيد\n"
          ]
        }
      ]
    },
    {
      "cell_type": "markdown",
      "metadata": {
        "id": "74xm2UgnSoPz"
      },
      "source": [
        "### Stemmer"
      ]
    },
    {
      "cell_type": "code",
      "metadata": {
        "id": "tpYmbysVRfiu"
      },
      "source": [
        "stemmer = FarasaStemmer()"
      ],
      "execution_count": 9,
      "outputs": []
    },
    {
      "cell_type": "code",
      "metadata": {
        "id": "tn9qwsYgSsHx",
        "colab": {
          "base_uri": "https://localhost:8080/"
        },
        "outputId": "93438e58-adfd-482e-f631-5be701db76fd"
      },
      "source": [
        "stemmed = stemmer.stem(sample)\n",
        "print(\"sample stemmed:\",stemmed)"
      ],
      "execution_count": 10,
      "outputs": [
        {
          "output_type": "stream",
          "name": "stdout",
          "text": [
            "sample stemmed: أنت فتى جيد\n"
          ]
        }
      ]
    },
    {
      "cell_type": "markdown",
      "metadata": {
        "id": "HgtHdyWFSxnd"
      },
      "source": [
        "### POS Tagger"
      ]
    },
    {
      "cell_type": "code",
      "metadata": {
        "id": "vyVlchIDSulg"
      },
      "source": [
        "pos_tagger = FarasaPOSTagger()"
      ],
      "execution_count": 11,
      "outputs": []
    },
    {
      "cell_type": "code",
      "metadata": {
        "id": "3FjJTxwpS05x",
        "colab": {
          "base_uri": "https://localhost:8080/"
        },
        "outputId": "86fe6847-28f0-4886-bff8-7c6ffbc3953b"
      },
      "source": [
        "pos_tagged = pos_tagger.tag(sample)\n",
        "print(\"sample POS Tagged\",pos_tagged)"
      ],
      "execution_count": 12,
      "outputs": [
        {
          "output_type": "stream",
          "name": "stdout",
          "text": [
            "sample POS Tagged S/S أنت/PRON فتى/NOUN-MS جيد/ADJ-MS E/E\n"
          ]
        }
      ]
    },
    {
      "cell_type": "markdown",
      "metadata": {
        "id": "1NOY--mWS3nu"
      },
      "source": [
        "### Farasa Named Entity Recognition"
      ]
    },
    {
      "cell_type": "code",
      "metadata": {
        "id": "T_9onJaBS2OT"
      },
      "source": [
        "named_entity_recognizer = FarasaNamedEntityRecognizer()"
      ],
      "execution_count": 13,
      "outputs": []
    },
    {
      "cell_type": "code",
      "metadata": {
        "id": "Aq5sRwFqS-NB",
        "colab": {
          "base_uri": "https://localhost:8080/"
        },
        "outputId": "1b6058ab-d4ac-4c61-b05a-103fed9feb65"
      },
      "source": [
        "named_entity_recognized = named_entity_recognizer.recognize(sample)\n",
        "print(\"sample named entity recognized:\",named_entity_recognized)"
      ],
      "execution_count": 14,
      "outputs": [
        {
          "output_type": "stream",
          "name": "stdout",
          "text": [
            "sample named entity recognized: أنت/O فتى/O جيد/O\n"
          ]
        }
      ]
    },
    {
      "cell_type": "markdown",
      "metadata": {
        "id": "vViFiNxzTBaO"
      },
      "source": [
        "### Diacritizer"
      ]
    },
    {
      "cell_type": "code",
      "metadata": {
        "id": "Fvu3MeAeS_2C"
      },
      "source": [
        "diacritizer = FarasaDiacritizer()"
      ],
      "execution_count": 10,
      "outputs": []
    },
    {
      "cell_type": "code",
      "metadata": {
        "id": "qIje7KmQTEQJ",
        "colab": {
          "base_uri": "https://localhost:8080/"
        },
        "outputId": "94ed1be4-5f46-40b1-fdd4-fc40bf21e3d6"
      },
      "source": [
        "diacritized = diacritizer.diacritize(sample)\n",
        "print(\"sample diacritized:\",diacritized)"
      ],
      "execution_count": 11,
      "outputs": [
        {
          "output_type": "stream",
          "name": "stdout",
          "text": [
            "sample diacritized: ذَهَبَ الطَّبِيبُ إِلَى الْمُسْتَشْفَى\n"
          ]
        }
      ]
    },
    {
      "cell_type": "markdown",
      "metadata": {
        "id": "znNJ2ih-TG_q"
      },
      "source": [
        "## Interactive Mode"
      ]
    },
    {
      "cell_type": "markdown",
      "metadata": {
        "id": "ZlQgD0aLTfcZ"
      },
      "source": [
        "### Segmenter"
      ]
    },
    {
      "cell_type": "code",
      "metadata": {
        "id": "52BcDP9kTFw7",
        "colab": {
          "base_uri": "https://localhost:8080/"
        },
        "outputId": "a32f258a-ec5b-4554-db1a-df4d23a94e27"
      },
      "source": [
        "segmenter_interactive = FarasaSegmenter(interactive=True)"
      ],
      "execution_count": 17,
      "outputs": [
        {
          "output_type": "stream",
          "name": "stderr",
          "text": [
            "[2024-10-10 17:20:32,021 - farasapy_logger - WARNING]: Be careful with large lines as they may break on interactive mode. You may switch to Standalone mode for such cases.\n"
          ]
        }
      ]
    },
    {
      "cell_type": "code",
      "metadata": {
        "id": "DjzSrZI4TOBB",
        "colab": {
          "base_uri": "https://localhost:8080/"
        },
        "outputId": "b09d5772-c4be-475a-f99c-6115adcb3a0f"
      },
      "source": [
        "segmented_interactive = segmenter_interactive.segment(sample)\n",
        "print(\"sample segmented (interactive):\",segmented_interactive)\n",
        "# terminate the object to save resources:\n",
        "segmenter_interactive.terminate()"
      ],
      "execution_count": 18,
      "outputs": [
        {
          "output_type": "stream",
          "name": "stdout",
          "text": [
            "sample segmented (interactive): أنت فتى جيد\n"
          ]
        }
      ]
    },
    {
      "cell_type": "markdown",
      "metadata": {
        "id": "DXooH_v8Thr8"
      },
      "source": [
        "### Stemmer"
      ]
    },
    {
      "cell_type": "code",
      "metadata": {
        "id": "a0mP1MBYTPtr",
        "colab": {
          "base_uri": "https://localhost:8080/"
        },
        "outputId": "e320853e-8e1c-4b5c-d700-5f51d85bf243"
      },
      "source": [
        "stemmer_interactive = FarasaStemmer(interactive=True)"
      ],
      "execution_count": 19,
      "outputs": [
        {
          "output_type": "stream",
          "name": "stderr",
          "text": [
            "[2024-10-10 17:20:38,092 - farasapy_logger - WARNING]: Be careful with large lines as they may break on interactive mode. You may switch to Standalone mode for such cases.\n"
          ]
        }
      ]
    },
    {
      "cell_type": "code",
      "metadata": {
        "id": "zqp2rOEhTRMn",
        "colab": {
          "base_uri": "https://localhost:8080/"
        },
        "outputId": "30e2ce8d-6ed0-44aa-bdbe-5ea837d549c2"
      },
      "source": [
        "stemmed_interactive = stemmer_interactive.stem(sample)\n",
        "print(\"sample stemmed (interactive):\",stemmed_interactive)\n",
        "# terminate the object to save resources:\n",
        "stemmer_interactive.terminate()"
      ],
      "execution_count": 20,
      "outputs": [
        {
          "output_type": "stream",
          "name": "stdout",
          "text": [
            "sample stemmed (interactive): أنت فتى جيد\n"
          ]
        }
      ]
    },
    {
      "cell_type": "markdown",
      "metadata": {
        "id": "ZJGENTFQTjfN"
      },
      "source": [
        "### POS Tagger"
      ]
    },
    {
      "cell_type": "code",
      "metadata": {
        "id": "e6pWgOQjTSnl",
        "colab": {
          "base_uri": "https://localhost:8080/"
        },
        "outputId": "4df9641b-139d-4dfa-9889-a101df410f52"
      },
      "source": [
        "pos_tagger_interactive = FarasaPOSTagger(interactive=True)"
      ],
      "execution_count": 21,
      "outputs": [
        {
          "output_type": "stream",
          "name": "stderr",
          "text": [
            "[2024-10-10 17:20:42,963 - farasapy_logger - WARNING]: Be careful with large lines as they may break on interactive mode. You may switch to Standalone mode for such cases.\n"
          ]
        }
      ]
    },
    {
      "cell_type": "code",
      "metadata": {
        "id": "KDb_JI2wTUcI",
        "colab": {
          "base_uri": "https://localhost:8080/"
        },
        "outputId": "d38808cd-9535-4aa8-e573-7938de01c165"
      },
      "source": [
        "pos_tagged_interactive = pos_tagger_interactive.tag(sample)\n",
        "print(\"sample POS Tagged (interactive)\",pos_tagged_interactive)\n",
        "# terminate the object to save resources:\n",
        "pos_tagger_interactive.terminate()"
      ],
      "execution_count": 22,
      "outputs": [
        {
          "output_type": "stream",
          "name": "stdout",
          "text": [
            "sample POS Tagged (interactive) S/S أنت/PRON فتى/NOUN-MS جيد/ADJ-MS E/E\n"
          ]
        }
      ]
    },
    {
      "cell_type": "markdown",
      "metadata": {
        "id": "VCNkpgRpTl8V"
      },
      "source": [
        "### Named Entity Reconition"
      ]
    },
    {
      "cell_type": "code",
      "metadata": {
        "id": "6hAfUgEeTV1V",
        "colab": {
          "base_uri": "https://localhost:8080/"
        },
        "outputId": "c86db2cb-9afa-44f3-8747-127828a0eceb"
      },
      "source": [
        "named_entity_recognizer_interactive = FarasaNamedEntityRecognizer(interactive=True)"
      ],
      "execution_count": 23,
      "outputs": [
        {
          "output_type": "stream",
          "name": "stderr",
          "text": [
            "[2024-10-10 17:21:00,437 - farasapy_logger - WARNING]: Be careful with large lines as they may break on interactive mode. You may switch to Standalone mode for such cases.\n"
          ]
        }
      ]
    },
    {
      "cell_type": "code",
      "metadata": {
        "id": "e9uPEGw1TXmh",
        "colab": {
          "base_uri": "https://localhost:8080/"
        },
        "outputId": "f7b7e6e1-56c5-4a68-a450-5f2cc86d0dc5"
      },
      "source": [
        "named_entity_recognized_interactive = named_entity_recognizer_interactive.recognize(sample)\n",
        "print(\"sample named entity recognized (interactive):\",named_entity_recognized_interactive)\n",
        "# terminate the object to save resources:\n",
        "named_entity_recognizer_interactive.terminate()"
      ],
      "execution_count": 24,
      "outputs": [
        {
          "output_type": "stream",
          "name": "stdout",
          "text": [
            "sample named entity recognized (interactive): أنت/O فتى/O جيد/O\n"
          ]
        }
      ]
    },
    {
      "cell_type": "markdown",
      "metadata": {
        "id": "CAVxQNRDTpJZ"
      },
      "source": [
        "### Diacritizer"
      ]
    },
    {
      "cell_type": "code",
      "metadata": {
        "id": "gjyZtL9OTZEZ",
        "colab": {
          "base_uri": "https://localhost:8080/"
        },
        "outputId": "c87037a6-00dd-4cb5-8d0e-89eda93d5f3e"
      },
      "source": [
        "diacritizer_interactive = FarasaDiacritizer(interactive=True)"
      ],
      "execution_count": 7,
      "outputs": [
        {
          "output_type": "stream",
          "name": "stderr",
          "text": [
            "[2024-10-10 17:27:06,480 - farasapy_logger - WARNING]: Be careful with large lines as they may break on interactive mode. You may switch to Standalone mode for such cases.\n"
          ]
        }
      ]
    },
    {
      "cell_type": "code",
      "metadata": {
        "id": "wkovt8hvTabq",
        "colab": {
          "base_uri": "https://localhost:8080/"
        },
        "outputId": "71b9d7cc-e5b6-41dc-d558-f6916b798ff6"
      },
      "source": [
        "diacritized_interactive = diacritizer_interactive.diacritize(sample)\n",
        "print(\"sample diacritized (interactive):\",diacritized_interactive)\n",
        "# terminate the object to save resources:\n",
        "diacritizer_interactive.terminate()"
      ],
      "execution_count": 24,
      "outputs": [
        {
          "output_type": "stream",
          "name": "stderr",
          "text": [
            "[2024-10-10 18:10:34,942 - farasapy_logger - ERROR]: pipe broke! error code and message: [[Errno 32] Broken pipe]. reinitailize the process.., This may take sometime depending on the running task\n"
          ]
        },
        {
          "output_type": "stream",
          "name": "stdout",
          "text": [
            "sample diacritized (interactive): مَرْحَبًا ، كَيْفَ حالُكَ ؟\n"
          ]
        }
      ]
    },
    {
      "cell_type": "code",
      "source": [
        "diacritized = diacritizer.diacritize(sample)\n",
        "print(\"Diacritized Arabic:\", diacritized)\n"
      ],
      "metadata": {
        "id": "hdVprsQCtHQA",
        "outputId": "d3d84f32-62a6-4ea0-d781-1464b82d67e0",
        "colab": {
          "base_uri": "https://localhost:8080/"
        }
      },
      "execution_count": 25,
      "outputs": [
        {
          "output_type": "stream",
          "name": "stdout",
          "text": [
            "Diacritized Arabic: مَرْحَبًا ، كَيْفَ حالُكَ ؟\n"
          ]
        }
      ]
    },
    {
      "cell_type": "code",
      "source": [
        "romanized_arabic_text = ur.romanize_string(diacritized)\n",
        "# normalized_arabic_text = normalize_uroman(romanized_arabic_text)\n",
        "print(\"Romanized Arabic:\", romanized_arabic_text)\n",
        "# print(\"Normalized Romanized Arabic:\", normalized_arabic_text)"
      ],
      "metadata": {
        "id": "Mv_JUOWQtjZL",
        "outputId": "cd83c551-2385-4d82-8b82-5b8c016d5bf9",
        "colab": {
          "base_uri": "https://localhost:8080/"
        }
      },
      "execution_count": 26,
      "outputs": [
        {
          "output_type": "stream",
          "name": "stdout",
          "text": [
            "Romanized Arabic: marhaba , kayfa haluka ?\n"
          ]
        }
      ]
    }
  ]
}