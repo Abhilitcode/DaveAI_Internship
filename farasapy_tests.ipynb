{
  "nbformat": 4,
  "nbformat_minor": 0,
  "metadata": {
    "colab": {
      "provenance": [],
      "include_colab_link": true
    },
    "kernelspec": {
      "name": "python3",
      "display_name": "Python 3"
    }
  },
  "cells": [
    {
      "cell_type": "markdown",
      "metadata": {
        "id": "view-in-github",
        "colab_type": "text"
      },
      "source": [
        "<a href=\"https://colab.research.google.com/github/Abhilitcode/DaveAI_Internship/blob/main/farasapy_tests.ipynb\" target=\"_parent\"><img src=\"https://colab.research.google.com/assets/colab-badge.svg\" alt=\"Open In Colab\"/></a>"
      ]
    },
    {
      "cell_type": "markdown",
      "metadata": {
        "id": "HXd-laxRM2C-"
      },
      "source": [
        "## Farasapy (Interactive Session)\n",
        "\n"
      ]
    },
    {
      "cell_type": "markdown",
      "metadata": {
        "id": "ESBXl3vxM7Bd"
      },
      "source": [
        "This is a live preview for `farasapy` library."
      ]
    },
    {
      "cell_type": "markdown",
      "metadata": {
        "id": "vTxH4K1TNOGn"
      },
      "source": [
        "## install"
      ]
    },
    {
      "cell_type": "code",
      "metadata": {
        "id": "nUtKdhhMnJtB",
        "colab": {
          "base_uri": "https://localhost:8080/"
        },
        "outputId": "400b5725-39b6-40ae-ca30-4c6d49bd545f"
      },
      "source": [
        "pip  install -U farasapy"
      ],
      "execution_count": 1,
      "outputs": [
        {
          "output_type": "stream",
          "name": "stdout",
          "text": [
            "Collecting farasapy\n",
            "  Downloading farasapy-0.0.14-py3-none-any.whl.metadata (8.9 kB)\n",
            "Requirement already satisfied: requests in /usr/local/lib/python3.10/dist-packages (from farasapy) (2.32.3)\n",
            "Requirement already satisfied: tqdm in /usr/local/lib/python3.10/dist-packages (from farasapy) (4.66.5)\n",
            "Requirement already satisfied: charset-normalizer<4,>=2 in /usr/local/lib/python3.10/dist-packages (from requests->farasapy) (3.3.2)\n",
            "Requirement already satisfied: idna<4,>=2.5 in /usr/local/lib/python3.10/dist-packages (from requests->farasapy) (3.10)\n",
            "Requirement already satisfied: urllib3<3,>=1.21.1 in /usr/local/lib/python3.10/dist-packages (from requests->farasapy) (2.2.3)\n",
            "Requirement already satisfied: certifi>=2017.4.17 in /usr/local/lib/python3.10/dist-packages (from requests->farasapy) (2024.8.30)\n",
            "Downloading farasapy-0.0.14-py3-none-any.whl (11 kB)\n",
            "Installing collected packages: farasapy\n",
            "Successfully installed farasapy-0.0.14\n"
          ]
        }
      ]
    },
    {
      "cell_type": "markdown",
      "metadata": {
        "id": "1rrvXtQ3NMAM"
      },
      "source": [
        "## import"
      ]
    },
    {
      "cell_type": "code",
      "metadata": {
        "id": "xlE4sCELNBXZ"
      },
      "source": [
        "from farasa.pos import FarasaPOSTagger\n",
        "from farasa.ner import FarasaNamedEntityRecognizer\n",
        "from farasa.diacratizer import FarasaDiacritizer\n",
        "from farasa.segmenter import FarasaSegmenter\n",
        "from farasa.stemmer import FarasaStemmer"
      ],
      "execution_count": 2,
      "outputs": []
    },
    {
      "cell_type": "markdown",
      "metadata": {
        "id": "tTLgs_CQNW-a"
      },
      "source": [
        "Sample"
      ]
    },
    {
      "cell_type": "markdown",
      "metadata": {
        "id": "4yBgQ4j4NY32"
      },
      "source": [
        "You can put any sample here and watch out the results"
      ]
    },
    {
      "cell_type": "code",
      "metadata": {
        "id": "yivCWdyONUrF"
      },
      "source": [
        "#source: https://r12a.github.io/scripts/tutorial/summaries/arabic\n",
        "sample =\\\n",
        "'''\n",
        "يُشار إلى أن اللغة العربية يتحدثها أكثر من 422 مليون نسمة ويتوزع متحدثوها في المنطقة المعروفة باسم الوطن العربي بالإضافة إلى العديد من المناطق الأخرى المجاورة مثل الأهواز وتركيا وتشاد والسنغال وإريتريا وغيرها. وهي اللغة الرابعة من لغات منظمة الأمم المتحدة الرسمية الست.\n",
        "'''"
      ],
      "execution_count": 3,
      "outputs": []
    },
    {
      "cell_type": "code",
      "metadata": {
        "id": "Mhnjjd1PNpP3",
        "colab": {
          "base_uri": "https://localhost:8080/"
        },
        "outputId": "ce2de710-7e7a-4fd4-91b3-f3886f003608"
      },
      "source": [
        "print(\"original sample:\",sample)"
      ],
      "execution_count": 4,
      "outputs": [
        {
          "output_type": "stream",
          "name": "stdout",
          "text": [
            "original sample: \n",
            "يُشار إلى أن اللغة العربية يتحدثها أكثر من 422 مليون نسمة ويتوزع متحدثوها في المنطقة المعروفة باسم الوطن العربي بالإضافة إلى العديد من المناطق الأخرى المجاورة مثل الأهواز وتركيا وتشاد والسنغال وإريتريا وغيرها. وهي اللغة الرابعة من لغات منظمة الأمم المتحدة الرسمية الست.\n",
            "\n"
          ]
        }
      ]
    },
    {
      "cell_type": "markdown",
      "metadata": {
        "id": "IQ_089xPNiNZ"
      },
      "source": [
        "## Standalone Mode"
      ]
    },
    {
      "cell_type": "markdown",
      "metadata": {
        "id": "PikxQIcTSl_R"
      },
      "source": [
        "### Segmenter"
      ]
    },
    {
      "cell_type": "code",
      "metadata": {
        "id": "d_SOgAIfNg-l",
        "colab": {
          "base_uri": "https://localhost:8080/"
        },
        "outputId": "c33e5a00-5b19-4dbf-fbac-9eece7b2b3ee"
      },
      "source": [
        "segmenter = FarasaSegmenter()"
      ],
      "execution_count": 5,
      "outputs": [
        {
          "output_type": "stream",
          "name": "stderr",
          "text": [
            "/usr/local/lib/python3.10/dist-packages/urllib3/connectionpool.py:1099: InsecureRequestWarning: Unverified HTTPS request is being made to host 'farasa-api.qcri.org'. Adding certificate verification is strongly advised. See: https://urllib3.readthedocs.io/en/latest/advanced-usage.html#tls-warnings\n",
            "  warnings.warn(\n"
          ]
        },
        {
          "output_type": "stream",
          "name": "stdout",
          "text": [
            "100%|██████████| 241M/241M [03:14<00:00, 1.24MiB/s]\n"
          ]
        }
      ]
    },
    {
      "cell_type": "code",
      "metadata": {
        "id": "K-NvYPqLN0R3",
        "colab": {
          "base_uri": "https://localhost:8080/"
        },
        "outputId": "2a7b84e8-7968-4e8d-baf3-8482f2fc63fa"
      },
      "source": [
        "segmented = segmenter.segment(sample)\n",
        "print(\"sample segmented:\",segmented)"
      ],
      "execution_count": 6,
      "outputs": [
        {
          "output_type": "stream",
          "name": "stdout",
          "text": [
            "sample segmented: يشار إلى أن ال+لغ+ة ال+عربي+ة يتحدث+ها أكثر من 422 مليون نسم+ة و+يتوزع متحدثوها في ال+منطق+ة ال+معروف+ة باسم ال+وطن ال+عربي ب+ال+إضاف+ة إلى ال+عديد من ال+مناطق ال+أخرى ال+مجاور+ة مثل ال+أهواز و+تركيا و+تشاد و+ال+سنغال و+إريتريا و+غير+ها . و+هي ال+لغ+ة ال+رابع+ة من لغ+ات منظم+ة ال+أمم ال+متحد+ة ال+رسمي+ة ال+ست .\n"
          ]
        }
      ]
    },
    {
      "cell_type": "markdown",
      "metadata": {
        "id": "74xm2UgnSoPz"
      },
      "source": [
        "### Stemmer"
      ]
    },
    {
      "cell_type": "code",
      "metadata": {
        "id": "tpYmbysVRfiu"
      },
      "source": [
        "stemmer = FarasaStemmer()"
      ],
      "execution_count": 7,
      "outputs": []
    },
    {
      "cell_type": "code",
      "metadata": {
        "id": "tn9qwsYgSsHx",
        "colab": {
          "base_uri": "https://localhost:8080/"
        },
        "outputId": "bf154194-9f56-47f0-8488-1a41aac96859"
      },
      "source": [
        "stemmed = stemmer.stem(sample)\n",
        "print(\"sample stemmed:\",stemmed)"
      ],
      "execution_count": 8,
      "outputs": [
        {
          "output_type": "stream",
          "name": "stdout",
          "text": [
            "sample stemmed: أشار إلى أن لغة عربي تحدث أكثر من 422 مليون نسمة توزع متحدثوها في منطقة معروف اسم وطن عربي إضافة إلى عديد من منطقة آخر مجاور مثل أهواز تركيا تشاد سنغال أريتريا غير . هي لغة رابع من لغة منظمة أمة متحد رسمي ست .\n"
          ]
        }
      ]
    },
    {
      "cell_type": "markdown",
      "metadata": {
        "id": "HgtHdyWFSxnd"
      },
      "source": [
        "### POS Tagger"
      ]
    },
    {
      "cell_type": "code",
      "metadata": {
        "id": "vyVlchIDSulg"
      },
      "source": [
        "pos_tagger = FarasaPOSTagger()"
      ],
      "execution_count": 9,
      "outputs": []
    },
    {
      "cell_type": "code",
      "metadata": {
        "id": "3FjJTxwpS05x",
        "colab": {
          "base_uri": "https://localhost:8080/"
        },
        "outputId": "f8839270-04e8-475a-ea1d-72d4ac2fb6d8"
      },
      "source": [
        "pos_tagged = pos_tagger.tag(sample)\n",
        "print(\"sample POS Tagged\",pos_tagged)"
      ],
      "execution_count": 10,
      "outputs": [
        {
          "output_type": "stream",
          "name": "stdout",
          "text": [
            "sample POS Tagged S/S يشار/V إلى/PREP أن/PART ال+ لغ +ة/DET+NOUN+NSUFF-FS ال+ عربي +ة/DET+ADJ+NSUFF-FS يتحدث/V +ها/PRON أكثر/ADJ-MS من/PREP 422/NUM-MP مليون/NUM-MS نسم +ة/NOUN+NSUFF-FS و+/CONJ يتوزع/V متحدثوها/NOUN-MS في/PREP ال+ منطق +ة/DET+NOUN+NSUFF-FS ال+ معروف +ة/DET+ADJ+NSUFF-FP باسم/NOUN-MS ال+ وطن/DET+NOUN-MS ال+ عربي/DET+ADJ-MS ب+/PREP ال+ إضاف +ة/DET+NOUN+NSUFF-FS إلى/PREP ال+ عديد/DET+NOUN-MS من/PREP ال+ مناطق/DET+NOUN-MS ال+ أخرى/DET+ADJ-MS ال+ مجاور +ة/DET+ADJ+NSUFF-FD مثل/NOUN-MS ال+ أهواز/DET+NOUN-MS و+/CONJ تركيا/NOUN-MS و+/CONJ تشاد/NOUN-MS و+/CONJ ال+ سنغال/DET+NOUN-MS و+/CONJ إريتريا/NOUN-MS و+/CONJ غير/NOUN-MS +ها/PRON ./PUNC و+/CONJ هي/PRON ال+ لغ +ة/DET+NOUN+NSUFF-FS ال+ رابع +ة/DET+ADJ+NSUFF-FP من/PREP لغ +ات/NOUN+NSUFF-FP منظم +ة/NOUN+NSUFF-FS ال+ أمم/DET+NOUN-MS ال+ متحد +ة/DET+ADJ+NSUFF-FP ال+ رسمي +ة/DET+ADJ+NSUFF-FD ال+ ست/DET+NOUN-MS ./PUNC E/E\n"
          ]
        }
      ]
    },
    {
      "cell_type": "markdown",
      "metadata": {
        "id": "1NOY--mWS3nu"
      },
      "source": [
        "### Farasa Named Entity Recognition"
      ]
    },
    {
      "cell_type": "code",
      "metadata": {
        "id": "T_9onJaBS2OT"
      },
      "source": [
        "named_entity_recognizer = FarasaNamedEntityRecognizer()"
      ],
      "execution_count": 11,
      "outputs": []
    },
    {
      "cell_type": "code",
      "metadata": {
        "id": "Aq5sRwFqS-NB",
        "colab": {
          "base_uri": "https://localhost:8080/"
        },
        "outputId": "31035700-a92f-49bb-8eaa-650f2b81987d"
      },
      "source": [
        "named_entity_recognized = named_entity_recognizer.recognize(sample)\n",
        "print(\"sample named entity recognized:\",named_entity_recognized)"
      ],
      "execution_count": 12,
      "outputs": [
        {
          "output_type": "stream",
          "name": "stdout",
          "text": [
            "sample named entity recognized: يشار/O إلى/O أن/O اللغة/O العربية/O يتحدثها/O أكثر/O من/O 422/O مليون/O نسمة/O ويتوزع/O متحدثوها/O في/O المنطقة/O المعروفة/O باسم/O الوطن/B-ORG العربي/I-ORG بالإضافة/O إلى/O العديد/O من/O المناطق/O الأخرى/O المجاورة/O مثل/O الأهواز/B-LOC وتركيا/B-LOC وتشاد/B-LOC والسنغال/B-LOC وإريتريا/B-LOC وغيرها/O ./O وهي/O اللغة/O الرابعة/O من/O لغات/O منظمة/B-ORG الأمم/I-ORG المتحدة/I-ORG الرسمية/O الست/O ./O\n"
          ]
        }
      ]
    },
    {
      "cell_type": "markdown",
      "metadata": {
        "id": "vViFiNxzTBaO"
      },
      "source": [
        "### Diacritizer"
      ]
    },
    {
      "cell_type": "code",
      "metadata": {
        "id": "Fvu3MeAeS_2C"
      },
      "source": [
        "diacritizer = FarasaDiacritizer()"
      ],
      "execution_count": 13,
      "outputs": []
    },
    {
      "cell_type": "code",
      "metadata": {
        "id": "qIje7KmQTEQJ",
        "colab": {
          "base_uri": "https://localhost:8080/"
        },
        "outputId": "b92a15eb-c149-43ec-939b-3348b52855da"
      },
      "source": [
        "diacritized = diacritizer.diacritize(sample)\n",
        "print(\"sample diacritized:\",diacritized)"
      ],
      "execution_count": 14,
      "outputs": [
        {
          "output_type": "stream",
          "name": "stdout",
          "text": [
            "sample diacritized: يُشار إِلَى أَنَّ اللُّغَةَ العَرَبيَّةِ يَتَحَدَّثَها أَكْثَرَ مِنْ 422 مِلْيونَ نَسَمَةٍ وَيَتَوَزَّعُ متحدثوها في المِنْطَقَةِ المَعْروفَةِ بِاسْمِ الوَطَنِ العَرَبيِّ بِالْإِضافَةِ إِلَى العَديدِ مِنْ المَناطِقِ الأُخْرَى المُجاوِرَةِ مِثْلَ الأَهْوازِ وَتُرْكيا وَتِشادَ والسِّنْغالِ وَإِريتْريا وَغَيْرُها . وَهيَ اللُّغَةُ الرّابِعَةُ مِنْ لُغاتِ مُنَظَّمَةِ الأُمَمِ المُتَّحِدَةِ الرَّسْميَّةِ السِّتِّ .\n"
          ]
        }
      ]
    },
    {
      "cell_type": "markdown",
      "metadata": {
        "id": "znNJ2ih-TG_q"
      },
      "source": [
        "## Interactive Mode"
      ]
    },
    {
      "cell_type": "markdown",
      "metadata": {
        "id": "ZlQgD0aLTfcZ"
      },
      "source": [
        "### Segmenter"
      ]
    },
    {
      "cell_type": "code",
      "metadata": {
        "id": "52BcDP9kTFw7",
        "colab": {
          "base_uri": "https://localhost:8080/"
        },
        "outputId": "63ec7dfb-ce8e-4fd6-f751-b8f28a76586e"
      },
      "source": [
        "segmenter_interactive = FarasaSegmenter(interactive=True)"
      ],
      "execution_count": 15,
      "outputs": [
        {
          "output_type": "stream",
          "name": "stderr",
          "text": [
            "[2024-10-10 13:48:15,161 - farasapy_logger - WARNING]: Be careful with large lines as they may break on interactive mode. You may switch to Standalone mode for such cases.\n"
          ]
        }
      ]
    },
    {
      "cell_type": "code",
      "metadata": {
        "id": "DjzSrZI4TOBB",
        "colab": {
          "base_uri": "https://localhost:8080/"
        },
        "outputId": "3f495f40-7b30-4969-c63e-d14f53c56c5b"
      },
      "source": [
        "segmented_interactive = segmenter_interactive.segment(sample)\n",
        "print(\"sample segmented (interactive):\",segmented_interactive)\n",
        "# terminate the object to save resources:\n",
        "segmenter_interactive.terminate()"
      ],
      "execution_count": 16,
      "outputs": [
        {
          "output_type": "stream",
          "name": "stdout",
          "text": [
            "sample segmented (interactive): يشار إلى أن ال+لغ+ة ال+عربي+ة يتحدث+ها أكثر من 422 مليون نسم+ة و+يتوزع متحدثوها في ال+منطق+ة ال+معروف+ة باسم ال+وطن ال+عربي ب+ال+إضاف+ة إلى ال+عديد من ال+مناطق ال+أخرى ال+مجاور+ة مثل ال+أهواز و+تركيا و+تشاد و+ال+سنغال و+إريتريا و+غير+ها . و+هي ال+لغ+ة ال+رابع+ة من لغ+ات منظم+ة ال+أمم ال+متحد+ة ال+رسمي+ة ال+ست .\n"
          ]
        }
      ]
    },
    {
      "cell_type": "markdown",
      "metadata": {
        "id": "DXooH_v8Thr8"
      },
      "source": [
        "### Stemmer"
      ]
    },
    {
      "cell_type": "code",
      "metadata": {
        "id": "a0mP1MBYTPtr",
        "colab": {
          "base_uri": "https://localhost:8080/"
        },
        "outputId": "d2f136e9-7092-4ae4-fbdd-91c84514adf1"
      },
      "source": [
        "stemmer_interactive = FarasaStemmer(interactive=True)"
      ],
      "execution_count": 17,
      "outputs": [
        {
          "output_type": "stream",
          "name": "stderr",
          "text": [
            "[2024-10-10 13:48:25,312 - farasapy_logger - WARNING]: Be careful with large lines as they may break on interactive mode. You may switch to Standalone mode for such cases.\n"
          ]
        }
      ]
    },
    {
      "cell_type": "code",
      "metadata": {
        "id": "zqp2rOEhTRMn",
        "colab": {
          "base_uri": "https://localhost:8080/"
        },
        "outputId": "f1d5f5ae-ca42-46e5-8ac8-77d6f4431b1c"
      },
      "source": [
        "stemmed_interactive = stemmer_interactive.stem(sample)\n",
        "print(\"sample stemmed (interactive):\",stemmed_interactive)\n",
        "# terminate the object to save resources:\n",
        "stemmer_interactive.terminate()"
      ],
      "execution_count": 18,
      "outputs": [
        {
          "output_type": "stream",
          "name": "stdout",
          "text": [
            "sample stemmed (interactive): أشار إلى أن لغة عربي تحدث أكثر من 422 مليون نسمة توزع متحدثوها في منطقة معروف اسم وطن عربي إضافة إلى عديد من منطقة آخر مجاور مثل أهواز تركيا تشاد سنغال أريتريا غير . هي لغة رابع من لغة منظمة أمة متحد رسمي ست .\n"
          ]
        }
      ]
    },
    {
      "cell_type": "markdown",
      "metadata": {
        "id": "ZJGENTFQTjfN"
      },
      "source": [
        "### POS Tagger"
      ]
    },
    {
      "cell_type": "code",
      "metadata": {
        "id": "e6pWgOQjTSnl",
        "colab": {
          "base_uri": "https://localhost:8080/"
        },
        "outputId": "77707611-a5ff-46d2-9406-c37bd8c702ef"
      },
      "source": [
        "pos_tagger_interactive = FarasaPOSTagger(interactive=True)"
      ],
      "execution_count": 19,
      "outputs": [
        {
          "output_type": "stream",
          "name": "stderr",
          "text": [
            "[2024-10-10 13:48:32,458 - farasapy_logger - WARNING]: Be careful with large lines as they may break on interactive mode. You may switch to Standalone mode for such cases.\n"
          ]
        }
      ]
    },
    {
      "cell_type": "code",
      "metadata": {
        "id": "KDb_JI2wTUcI",
        "colab": {
          "base_uri": "https://localhost:8080/"
        },
        "outputId": "19135284-27d8-4d2c-ce2e-35b7c88e2c13"
      },
      "source": [
        "pos_tagged_interactive = pos_tagger_interactive.tag(sample)\n",
        "print(\"sample POS Tagged (interactive)\",pos_tagged_interactive)\n",
        "# terminate the object to save resources:\n",
        "pos_tagger_interactive.terminate()"
      ],
      "execution_count": 20,
      "outputs": [
        {
          "output_type": "stream",
          "name": "stdout",
          "text": [
            "sample POS Tagged (interactive) S/S يشار/V إلى/PREP أن/PART ال+ لغ +ة/DET+NOUN+NSUFF-FS ال+ عربي +ة/DET+ADJ+NSUFF-FS يتحدث/V +ها/PRON أكثر/ADJ-MS من/PREP 422/NUM-MP مليون/NUM-MS نسم +ة/NOUN+NSUFF-FS و+/CONJ يتوزع/V متحدثوها/NOUN-MS في/PREP ال+ منطق +ة/DET+NOUN+NSUFF-FS ال+ معروف +ة/DET+ADJ+NSUFF-FP باسم/NOUN-MS ال+ وطن/DET+NOUN-MS ال+ عربي/DET+ADJ-MS ب+/PREP ال+ إضاف +ة/DET+NOUN+NSUFF-FS إلى/PREP ال+ عديد/DET+NOUN-MS من/PREP ال+ مناطق/DET+NOUN-MS ال+ أخرى/DET+ADJ-MS ال+ مجاور +ة/DET+ADJ+NSUFF-FD مثل/NOUN-MS ال+ أهواز/DET+NOUN-MS و+/CONJ تركيا/NOUN-MS و+/CONJ تشاد/NOUN-MS و+/CONJ ال+ سنغال/DET+NOUN-MS و+/CONJ إريتريا/NOUN-MS و+/CONJ غير/NOUN-MS +ها/PRON ./PUNC و+/CONJ هي/PRON ال+ لغ +ة/DET+NOUN+NSUFF-FS ال+ رابع +ة/DET+ADJ+NSUFF-FP من/PREP لغ +ات/NOUN+NSUFF-FP منظم +ة/NOUN+NSUFF-FS ال+ أمم/DET+NOUN-MS ال+ متحد +ة/DET+ADJ+NSUFF-FP ال+ رسمي +ة/DET+ADJ+NSUFF-FD ال+ ست/DET+NOUN-MS ./PUNC E/E\n"
          ]
        }
      ]
    },
    {
      "cell_type": "markdown",
      "metadata": {
        "id": "VCNkpgRpTl8V"
      },
      "source": [
        "### Named Entity Reconition"
      ]
    },
    {
      "cell_type": "code",
      "metadata": {
        "id": "6hAfUgEeTV1V",
        "colab": {
          "base_uri": "https://localhost:8080/"
        },
        "outputId": "7f20f344-9a8a-4e91-bd53-06addfd0b168"
      },
      "source": [
        "named_entity_recognizer_interactive = FarasaNamedEntityRecognizer(interactive=True)"
      ],
      "execution_count": 21,
      "outputs": [
        {
          "output_type": "stream",
          "name": "stderr",
          "text": [
            "[2024-10-10 13:48:51,432 - farasapy_logger - WARNING]: Be careful with large lines as they may break on interactive mode. You may switch to Standalone mode for such cases.\n"
          ]
        }
      ]
    },
    {
      "cell_type": "code",
      "metadata": {
        "id": "e9uPEGw1TXmh",
        "colab": {
          "base_uri": "https://localhost:8080/"
        },
        "outputId": "03097024-b369-4da7-abd6-be75494bae04"
      },
      "source": [
        "named_entity_recognized_interactive = named_entity_recognizer_interactive.recognize(sample)\n",
        "print(\"sample named entity recognized (interactive):\",named_entity_recognized_interactive)\n",
        "# terminate the object to save resources:\n",
        "named_entity_recognizer_interactive.terminate()"
      ],
      "execution_count": 22,
      "outputs": [
        {
          "output_type": "stream",
          "name": "stdout",
          "text": [
            "sample named entity recognized (interactive): يشار/O إلى/O أن/O اللغة/O العربية/O يتحدثها/O أكثر/O من/O 422/O مليون/O نسمة/O ويتوزع/O متحدثوها/O في/O المنطقة/O المعروفة/O باسم/O الوطن/B-ORG العربي/I-ORG بالإضافة/O إلى/O العديد/O من/O المناطق/O الأخرى/O المجاورة/O مثل/O الأهواز/B-LOC وتركيا/B-LOC وتشاد/B-LOC والسنغال/B-LOC وإريتريا/B-LOC وغيرها/O ./O وهي/O اللغة/O الرابعة/O من/O لغات/O منظمة/B-ORG الأمم/I-ORG المتحدة/I-ORG الرسمية/O الست/O ./O\n"
          ]
        }
      ]
    },
    {
      "cell_type": "markdown",
      "metadata": {
        "id": "CAVxQNRDTpJZ"
      },
      "source": [
        "### Diacritizer"
      ]
    },
    {
      "cell_type": "code",
      "metadata": {
        "id": "gjyZtL9OTZEZ",
        "colab": {
          "base_uri": "https://localhost:8080/"
        },
        "outputId": "e7d995df-7a54-4204-c5e2-b72e50c1726a"
      },
      "source": [
        "diacritizer_interactive = FarasaDiacritizer(interactive=True)"
      ],
      "execution_count": 23,
      "outputs": [
        {
          "output_type": "stream",
          "name": "stderr",
          "text": [
            "[2024-10-10 13:49:20,489 - farasapy_logger - WARNING]: Be careful with large lines as they may break on interactive mode. You may switch to Standalone mode for such cases.\n"
          ]
        }
      ]
    },
    {
      "cell_type": "code",
      "metadata": {
        "id": "wkovt8hvTabq",
        "colab": {
          "base_uri": "https://localhost:8080/"
        },
        "outputId": "7ba34a2a-2975-4dcd-ba90-7452a2caf5e0"
      },
      "source": [
        "diacritized_interactive = diacritizer_interactive.diacritize(sample)\n",
        "print(\"sample diacritized (interactive):\",diacritized_interactive)\n",
        "# terminate the object to save resources:\n",
        "diacritizer_interactive.terminate()"
      ],
      "execution_count": 24,
      "outputs": [
        {
          "output_type": "stream",
          "name": "stdout",
          "text": [
            "sample diacritized (interactive): يُشار إِلَى أَنَّ اللُّغَةَ العَرَبيَّةِ يَتَحَدَّثَها أَكْثَرَ مِنْ 422 مِلْيونَ نَسَمَةٍ وَيَتَوَزَّعُ متحدثوها في المِنْطَقَةِ المَعْروفَةِ بِاسْمِ الوَطَنِ العَرَبيِّ بِالْإِضافَةِ إِلَى العَديدِ مِنْ المَناطِقِ الأُخْرَى المُجاوِرَةِ مِثْلَ الأَهْوازِ وَتُرْكيا وَتِشادَ والسِّنْغالِ وَإِريتْريا وَغَيْرُها . وَهيَ اللُّغَةُ الرّابِعَةُ مِنْ لُغاتِ مُنَظَّمَةِ الأُمَمِ المُتَّحِدَةِ الرَّسْميَّةِ السِّتِّ .\n"
          ]
        }
      ]
    }
  ]
}