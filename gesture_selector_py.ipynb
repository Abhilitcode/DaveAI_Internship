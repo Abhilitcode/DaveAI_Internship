{
  "nbformat": 4,
  "nbformat_minor": 0,
  "metadata": {
    "colab": {
      "provenance": [],
      "gpuType": "T4",
      "include_colab_link": true
    },
    "kernelspec": {
      "name": "python3",
      "display_name": "Python 3"
    },
    "language_info": {
      "name": "python"
    },
    "accelerator": "GPU"
  },
  "cells": [
    {
      "cell_type": "markdown",
      "metadata": {
        "id": "view-in-github",
        "colab_type": "text"
      },
      "source": [
        "<a href=\"https://colab.research.google.com/github/Abhilitcode/DaveAI_Internship/blob/main/gesture_selector_py.ipynb\" target=\"_parent\"><img src=\"https://colab.research.google.com/assets/colab-badge.svg\" alt=\"Open In Colab\"/></a>"
      ]
    },
    {
      "cell_type": "code",
      "execution_count": 28,
      "metadata": {
        "id": "R-JPGHaVn4r4"
      },
      "outputs": [],
      "source": [
        "#create a class that will include the gestures n group organized methods\n",
        "class gesture_selector:\n",
        "  # Initializes the class with a dictionary of gestures.\n",
        "  def __init__(self, gestures_dict):\n",
        "    self.gestures = gestures_dict\n",
        "    #we will here initilaize the empty dict here so that we can store the gestures\n",
        "    self.organized_gesture = {}\n",
        "    self.organized_group()"
      ]
    },
    {
      "cell_type": "markdown",
      "source": [
        "{\n",
        "    \"gesture_1\": {\n",
        "        \"frames\": 25,\n",
        "        \"weights\": 20,\n",
        "        \"group\": \"idle\"\n",
        "    },\n",
        "    \"gesture_2\": {\n",
        "        \"frames\": 30,\n",
        "        \"weights\": 15,\n",
        "        \"group\": \"left\"\n",
        "    },\n",
        "    \"gesture_3\": {\n",
        "        \"frames\": 60,\n",
        "        \"weights\": 40,\n",
        "        \"group\": \"left\"\n",
        "    },\n",
        "    \"gesture_4\": {\n",
        "        \"frames\": 25,\n",
        "        \"weights\": 20\n",
        "    }\n",
        "}"
      ],
      "metadata": {
        "id": "bnWYhxCs4oeF"
      }
    },
    {
      "cell_type": "markdown",
      "source": [
        "This is what we want-: self.organized_gestures = {\n",
        "    \"idle\": {\n",
        "        \"gesture_1\": {\n",
        "            \"frames\": 25,\n",
        "            \"weights\": 20\n",
        "        }\n",
        "    }\n",
        "}\n"
      ],
      "metadata": {
        "id": "OcWU2mDW67Zl"
      }
    },
    {
      "cell_type": "code",
      "source": [
        "#creating a method that will recognize the group\n",
        "def oragnized_by_groups(self):\n",
        "  for gestures, details in self.gestures.items():\n",
        "    #1st lets assign default for dict(gesture) where group is not mentioned\n",
        "    #also .get(keyname,value) --> syntax\n",
        "    group = details.get(\"group\", \"default\") #if group name is there it will be assigned as value. i.e group = 'idle'\n",
        "    if group not in self.organized_gesture:\n",
        "      self.organized_gesture[group] = {}\n",
        "    self.organized_gesture[group][gestures] = {\n",
        "        \"frames\": details[\"frames\"],\n",
        "        \"weights\": details[\"weights\"]\n",
        "    }\n",
        "\n"
      ],
      "metadata": {
        "id": "3O6JB_WwrT_E"
      },
      "execution_count": 29,
      "outputs": []
    },
    {
      "cell_type": "markdown",
      "source": [
        "Lets first integrate above methods and class and test them-:"
      ],
      "metadata": {
        "id": "ure9wEvuAp-w"
      }
    },
    {
      "cell_type": "code",
      "source": [
        "#create a class that will include the gestures n group organized methods\n",
        "class Gesture_selector:\n",
        "  # Initializes the class with a dictionary of gestures.\n",
        "  def __init__(self, gestures_dict):\n",
        "    self.gestures = gestures_dict\n",
        "    #we will here initilaize the empty dict here so that we can store the gestures based on groups\n",
        "    self.organized_gesture = {}\n",
        "    self.oragnized_by_groups()\n",
        "\n",
        "  #creating a method that will recognize the group\n",
        "  def oragnized_by_groups(self):\n",
        "    for gestures, details in self.gestures.items():\n",
        "      #1st lets assign default for dict(gesture) where group is not mentioned\n",
        "      #also .get(keyname,value) --> syntax\n",
        "      group = details.get(\"group\", \"default\") #if group name is there it will be assigned as value. i.e group = 'idle'\n",
        "      if group not in self.organized_gesture:\n",
        "        self.organized_gesture[group] = {}\n",
        "      self.organized_gesture[group][gestures] = {\n",
        "          \"frames\": details[\"frames\"],\n",
        "          \"weights\": details[\"weights\"]\n",
        "      }"
      ],
      "metadata": {
        "id": "n-DwStjXApsZ"
      },
      "execution_count": 30,
      "outputs": []
    },
    {
      "cell_type": "code",
      "source": [
        "gestures = {\n",
        "    \"gesture_1\": {\"frames\": 25, \"weights\": 20, \"group\": \"idle\"},\n",
        "    \"gesture_2\": {\"frames\": 30, \"weights\": 15, \"group\": \"left\"},\n",
        "    \"gesture_3\": {\"frames\": 60, \"weights\": 40, \"group\": \"left\"},\n",
        "    \"gesture_4\": {\"frames\": 25, \"weights\": 20}  # No group provided\n",
        "}"
      ],
      "metadata": {
        "id": "eyXDaeykCWNg"
      },
      "execution_count": 31,
      "outputs": []
    },
    {
      "cell_type": "code",
      "source": [
        "selector = Gesture_selector(gestures)\n",
        "print(selector.organized_gesture)"
      ],
      "metadata": {
        "colab": {
          "base_uri": "https://localhost:8080/"
        },
        "id": "TLJ6IaZ4Cebg",
        "outputId": "d6bfb1f3-194a-4cdd-b793-48f3ad2024ea"
      },
      "execution_count": 32,
      "outputs": [
        {
          "output_type": "stream",
          "name": "stdout",
          "text": [
            "{'idle': {'gesture_1': {'frames': 25, 'weights': 20}}, 'left': {'gesture_2': {'frames': 30, 'weights': 15}, 'gesture_3': {'frames': 60, 'weights': 40}}, 'default': {'gesture_4': {'frames': 25, 'weights': 20}}}\n"
          ]
        }
      ]
    },
    {
      "cell_type": "markdown",
      "source": [
        " Given the output above, create a function in the class that would do the following.\n",
        "a. The function should check the number of frames and whether they would fit within a time_range.\n",
        "For example given 2 seconds. It should convert 2 seconds to frames by multiplying by 25 or the frame_rate.\n",
        "So after the given number of frames within the time_range, the function would only select the gestures that have the value less than or equal to the time_range frames\n",
        "b. From the gestures that remain, create a probabilistic approach where we get the maximum fit of gestures based on the weights provided above\n",
        "i.e. Say we have 5 gestures with weights 7, 4, 3, 4 and 6 and the gestures have 50, 25, 32, 28 and 60 frames respectively, and we have a time_range of 5seconds.\n",
        "The function would process as follows:\n",
        "- convert 5 to frames => 5*25=125\n",
        "- based on the weights and frames select the gestures that would result in a number less than and closest to 125 while considering the weight of each gesture.\n",
        "- after getting the best fit for that time_range, assign start times and end_times for each gesture based on the number of frames.\n",
        "c. After selection of each gesture, we should reduce the weight of the gesture by the number of times the gesture is selected.\n",
        "d. the output of the function should be something like"
      ],
      "metadata": {
        "id": "Ltm3s9giXznd"
      }
    },
    {
      "cell_type": "markdown",
      "source": [
        "Purpose: We are converting the time_range from seconds to frames.\n",
        "Explanation: The gestures are stored with information about how many frames they occupy, but the input we receive from the user specifies the time range in seconds. Since animations work based on frames, we need to convert this time range to a number of frames.\n",
        "\n",
        " all_gestures = []\n",
        "Purpose: Initialize an empty list to store all gestures in a flattened form.\n",
        "Explanation: The self.organized_gestures dictionary organizes gestures by their groups (e.g., \"idle\", \"left\", \"right\"). In this step, we want to gather all the gestures, regardless of group, into a flat list. This is because we need to evaluate all gestures in order of their weights, not by group.\n",
        "\n",
        "Purpose: Initialize an empty list where we will store the gestures that are selected to fit within the total_frames.\n",
        "Explanation: As we iterate through available gestures, we will select some of them based on their frames and weights. We need a place to store these selected gestures, which is what the selected_gestures list will be used for."
      ],
      "metadata": {
        "id": "e3Dht3y0vaSU"
      }
    },
    {
      "cell_type": "code",
      "source": [
        "def gesture_time_range(self, time_range, frame_rate=25):\n",
        "  ## List to store the selected gestures\n",
        "  selected_gestures = []\n",
        "  #Initialize an empty list to store all gestures in a flattened form\n",
        "  all_gestures = []\n",
        "  # time_range from seconds to frames\n",
        "  total_frames = time_range * frame_rate\n",
        "  for group, gestures in self.organized_gesture.items():\n",
        "    for gestures, details in gestures.items():\n",
        "      all_gestures.append((gestures, details))\n",
        "\n",
        "  # Sort gestures by weights (higher weight first)\n",
        "  all_gestures.sort(key=lambda x : x[1]['weights'], reverse=True)\n",
        "\n",
        "\n"
      ],
      "metadata": {
        "id": "v94zRGlfXy5m"
      },
      "execution_count": 33,
      "outputs": []
    },
    {
      "cell_type": "markdown",
      "source": [
        "Lets integrate and test first"
      ],
      "metadata": {
        "id": "KrhCCLRNHoJV"
      }
    },
    {
      "cell_type": "code",
      "source": [
        "#create a class that will include the gestures n group organized methods\n",
        "class Gesture_selector:\n",
        "  # Initializes the class with a dictionary of gestures.\n",
        "  def __init__(self, gestures_dict):\n",
        "    self.gestures = gestures_dict\n",
        "    #we will here initilaize the empty dict here so that we can store the gestures based on groups\n",
        "    self.organized_gesture = {}\n",
        "    self.oragnized_by_groups()\n",
        "\n",
        "  #creating a method that will recognize the group\n",
        "  def oragnized_by_groups(self):\n",
        "    for gestures, details in self.gestures.items():\n",
        "      #1st lets assign default for dict(gesture) where group is not mentioned\n",
        "      #also .get(keyname,value) --> syntax\n",
        "      group = details.get(\"group\", \"default\") #if group name is there it will be assigned as value. i.e group = 'idle'\n",
        "      if group not in self.organized_gesture:\n",
        "        self.organized_gesture[group] = {}\n",
        "      self.organized_gesture[group][gestures] = {\n",
        "          \"frames\": details[\"frames\"],\n",
        "          \"weights\": details[\"weights\"]\n",
        "      }\n",
        "\n",
        "  def gesture_time_range(self, time_range, frame_rate=25):\n",
        "  ## List to store the selected gestures\n",
        "    selected_gestures = []\n",
        "  #Initialize an empty list to store all gestures in a flattened form\n",
        "    all_gestures = []\n",
        "  # time_range from seconds to frames\n",
        "    total_frames = time_range * frame_rate\n",
        "    for group, gestures in self.organized_gesture.items():\n",
        "      for gestures, details in gestures.items():\n",
        "        all_gestures.append((gestures, details))\n",
        "\n",
        "    # Sort gestures by weights (higher weight first)\n",
        "    all_gestures.sort(key=lambda x : x[1]['weights'], reverse=True)\n",
        "    return all_gestures"
      ],
      "metadata": {
        "id": "OmmRLn6UHrU4"
      },
      "execution_count": 34,
      "outputs": []
    },
    {
      "cell_type": "code",
      "source": [
        "gestures = {\n",
        "    \"gesture_1\": {\"frames\": 25, \"weights\": 20, \"group\": \"idle\"},\n",
        "    \"gesture_2\": {\"frames\": 30, \"weights\": 15, \"group\": \"left\"},\n",
        "    \"gesture_3\": {\"frames\": 60, \"weights\": 40, \"group\": \"left\"},\n",
        "    \"gesture_4\": {\"frames\": 25, \"weights\": 20}  # No group provided\n",
        "}"
      ],
      "metadata": {
        "id": "SLvqB9Q0Ilx0"
      },
      "execution_count": 35,
      "outputs": []
    },
    {
      "cell_type": "code",
      "source": [
        "selector = Gesture_selector(gestures)\n",
        "print(selector.organized_gesture)\n"
      ],
      "metadata": {
        "colab": {
          "base_uri": "https://localhost:8080/"
        },
        "id": "IoYQPEZoIFi_",
        "outputId": "158d262c-6036-4511-f74a-90cf5ee656b8"
      },
      "execution_count": 36,
      "outputs": [
        {
          "output_type": "stream",
          "name": "stdout",
          "text": [
            "{'idle': {'gesture_1': {'frames': 25, 'weights': 20}}, 'left': {'gesture_2': {'frames': 30, 'weights': 15}, 'gesture_3': {'frames': 60, 'weights': 40}}, 'default': {'gesture_4': {'frames': 25, 'weights': 20}}}\n"
          ]
        }
      ]
    },
    {
      "cell_type": "code",
      "source": [
        "#succesfully sorted by higher weights\n",
        "print(selector.gesture_time_range(5,25))"
      ],
      "metadata": {
        "colab": {
          "base_uri": "https://localhost:8080/"
        },
        "id": "V9CXxkrJIFgM",
        "outputId": "24b565f3-1124-4d37-8f9f-b160b35f28bd"
      },
      "execution_count": 37,
      "outputs": [
        {
          "output_type": "stream",
          "name": "stdout",
          "text": [
            "[('gesture_3', {'frames': 60, 'weights': 40}), ('gesture_1', {'frames': 25, 'weights': 20}), ('gesture_4', {'frames': 25, 'weights': 20}), ('gesture_2', {'frames': 30, 'weights': 15})]\n"
          ]
        }
      ]
    },
    {
      "cell_type": "markdown",
      "source": [
        "This is a deterministic appraoch"
      ],
      "metadata": {
        "id": "_F7xJQNxFpa4"
      }
    },
    {
      "cell_type": "code",
      "source": [
        "#selecting the gestures based on weights\n",
        "current_frame = 0\n",
        "for gestures, details in all_gestures:\n",
        "  if current_frame + details['frames'] <= total_frames:\n",
        "    selected_gestures.append({\n",
        "        'gesture': gestures,\n",
        "        'start_time': current_frame,\n",
        "        'end_time': current_frame + details['frames']\n",
        "    })\n",
        "    #update the current frame\n",
        "    current_frame += details['frames']\n",
        "    #decrement the weights depending on how many times it got selected\n",
        "    details['weights'] -= 1"
      ],
      "metadata": {
        "id": "KrSwR5PSIFc0"
      },
      "execution_count": 37,
      "outputs": []
    },
    {
      "cell_type": "code",
      "source": [],
      "metadata": {
        "id": "ztYczNiuIFZF"
      },
      "execution_count": 37,
      "outputs": []
    }
  ]
}