{
  "nbformat": 4,
  "nbformat_minor": 0,
  "metadata": {
    "colab": {
      "provenance": [],
      "authorship_tag": "ABX9TyPKRvJOWoSiBM1CjsmUTvwv",
      "include_colab_link": true
    },
    "kernelspec": {
      "name": "python3",
      "display_name": "Python 3"
    },
    "language_info": {
      "name": "python"
    }
  },
  "cells": [
    {
      "cell_type": "markdown",
      "metadata": {
        "id": "view-in-github",
        "colab_type": "text"
      },
      "source": [
        "<a href=\"https://colab.research.google.com/github/Abhilitcode/DaveAI_Internship/blob/main/gesture_selector_py.ipynb\" target=\"_parent\"><img src=\"https://colab.research.google.com/assets/colab-badge.svg\" alt=\"Open In Colab\"/></a>"
      ]
    },
    {
      "cell_type": "code",
      "execution_count": 1,
      "metadata": {
        "id": "R-JPGHaVn4r4"
      },
      "outputs": [],
      "source": [
        "#create a class that will include the gestures n group organized methods\n",
        "class gesture_selector:\n",
        "  # Initializes the class with a dictionary of gestures.\n",
        "  def __init__(self, gestures_dict):\n",
        "    self.gestures = gestures_dict\n",
        "    #we will here initilaize the empty dict here so that we can store the gestures\n",
        "    self.organized_gesture = {}\n",
        "    self.organized_group()"
      ]
    },
    {
      "cell_type": "markdown",
      "source": [
        "{\n",
        "    \"gesture_1\": {\n",
        "        \"frames\": 25,\n",
        "        \"weights\": 20,\n",
        "        \"group\": \"idle\"\n",
        "    },\n",
        "    \"gesture_2\": {\n",
        "        \"frames\": 30,\n",
        "        \"weights\": 15,\n",
        "        \"group\": \"left\"\n",
        "    },\n",
        "    \"gesture_3\": {\n",
        "        \"frames\": 60,\n",
        "        \"weights\": 40,\n",
        "        \"group\": \"left\"\n",
        "    },\n",
        "    \"gesture_4\": {\n",
        "        \"frames\": 25,\n",
        "        \"weights\": 20\n",
        "    }\n",
        "}"
      ],
      "metadata": {
        "id": "bnWYhxCs4oeF"
      }
    },
    {
      "cell_type": "markdown",
      "source": [
        "This is what we want-: self.organized_gestures = {\n",
        "    \"idle\": {\n",
        "        \"gesture_1\": {\n",
        "            \"frames\": 25,\n",
        "            \"weights\": 20\n",
        "        }\n",
        "    }\n",
        "}\n"
      ],
      "metadata": {
        "id": "OcWU2mDW67Zl"
      }
    },
    {
      "cell_type": "code",
      "source": [
        "#creating a method that will recognize the group\n",
        "for gestures, details in self.gestures.items():\n",
        "  #1st lets assign default for dict(gesture) where group is not mentioned\n",
        "  #also .get(keyname,value) --> syntax\n",
        "  group = details.get(\"group\", \"default\") #if group name is there it will be assigned as value. i.e group = 'idle'\n",
        "  if group not in self.organized_gesture:\n",
        "    self.organized_gesture[group] = {}\n",
        "    self.organized_gesture[group][gestures] = {\n",
        "        \"frames\": details[\"frames\"],\n",
        "        \"weights\": details[\"weights\"]\n",
        "  }\n",
        "\n"
      ],
      "metadata": {
        "id": "3O6JB_WwrT_E"
      },
      "execution_count": null,
      "outputs": []
    },
    {
      "cell_type": "markdown",
      "source": [
        "Lets first integrate above methods and class and test them-:"
      ],
      "metadata": {
        "id": "ure9wEvuAp-w"
      }
    },
    {
      "cell_type": "code",
      "source": [
        "#create a class that will include the gestures n group organized methods\n",
        "class Gesture_selector:\n",
        "  # Initializes the class with a dictionary of gestures.\n",
        "  def __init__(self, gestures_dict):\n",
        "    self.gestures = gestures_dict\n",
        "    #we will here initilaize the empty dict here so that we can store the gestures\n",
        "    self.organized_gesture = {}\n",
        "    self.oragnized_by_groups()\n",
        "\n",
        "  #creating a method that will recognize the group\n",
        "  def oragnized_by_groups(self):\n",
        "    for gestures, details in self.gestures.items():\n",
        "      #1st lets assign default for dict(gesture) where group is not mentioned\n",
        "      #also .get(keyname,value) --> syntax\n",
        "      group = details.get(\"group\", \"default\") #if group name is there it will be assigned as value. i.e group = 'idle'\n",
        "      if group not in self.organized_gesture:\n",
        "        self.organized_gesture[group] = {}\n",
        "      self.organized_gesture[group][gestures] = {\n",
        "          \"frames\": details[\"frames\"],\n",
        "          \"weights\": details[\"weights\"]\n",
        "      }"
      ],
      "metadata": {
        "id": "n-DwStjXApsZ"
      },
      "execution_count": 8,
      "outputs": []
    },
    {
      "cell_type": "code",
      "source": [
        "gestures = {\n",
        "    \"gesture_1\": {\"frames\": 25, \"weights\": 20, \"group\": \"idle\"},\n",
        "    \"gesture_2\": {\"frames\": 30, \"weights\": 15, \"group\": \"left\"},\n",
        "    \"gesture_3\": {\"frames\": 60, \"weights\": 40, \"group\": \"left\"},\n",
        "    \"gesture_4\": {\"frames\": 25, \"weights\": 20}  # No group provided\n",
        "}"
      ],
      "metadata": {
        "id": "eyXDaeykCWNg"
      },
      "execution_count": 9,
      "outputs": []
    },
    {
      "cell_type": "code",
      "source": [
        "selector = Gesture_selector(gestures)\n",
        "print(selector.organized_gesture)"
      ],
      "metadata": {
        "colab": {
          "base_uri": "https://localhost:8080/"
        },
        "id": "TLJ6IaZ4Cebg",
        "outputId": "8636081d-e3ee-47c7-8af0-01fe0161bddc"
      },
      "execution_count": 10,
      "outputs": [
        {
          "output_type": "stream",
          "name": "stdout",
          "text": [
            "{'idle': {'gesture_1': {'frames': 25, 'weights': 20}}, 'left': {'gesture_2': {'frames': 30, 'weights': 15}, 'gesture_3': {'frames': 60, 'weights': 40}}, 'default': {'gesture_4': {'frames': 25, 'weights': 20}}}\n"
          ]
        }
      ]
    }
  ]
}