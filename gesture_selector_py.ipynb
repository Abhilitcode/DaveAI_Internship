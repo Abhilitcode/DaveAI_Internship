{
  "nbformat": 4,
  "nbformat_minor": 0,
  "metadata": {
    "colab": {
      "provenance": [],
      "authorship_tag": "ABX9TyMsMm0uGWDGNfzG584khyER",
      "include_colab_link": true
    },
    "kernelspec": {
      "name": "python3",
      "display_name": "Python 3"
    },
    "language_info": {
      "name": "python"
    }
  },
  "cells": [
    {
      "cell_type": "markdown",
      "metadata": {
        "id": "view-in-github",
        "colab_type": "text"
      },
      "source": [
        "<a href=\"https://colab.research.google.com/github/Abhilitcode/DaveAI_Internship/blob/main/gesture_selector_py.ipynb\" target=\"_parent\"><img src=\"https://colab.research.google.com/assets/colab-badge.svg\" alt=\"Open In Colab\"/></a>"
      ]
    },
    {
      "cell_type": "code",
      "execution_count": 1,
      "metadata": {
        "id": "R-JPGHaVn4r4"
      },
      "outputs": [],
      "source": [
        "#create a class that will include the gestures n group organized methods\n",
        "class gesture_selector:\n",
        "  # Initializes the class with a dictionary of gestures.\n",
        "  def __init__(self, gestures_dict):\n",
        "    self.gestures = gestures_dict\n",
        "    #we will here initilaize the empty dict here so that we can store the gestures\n",
        "    self.organized_gesture = {}\n",
        "    self.organized_group()"
      ]
    },
    {
      "cell_type": "markdown",
      "source": [
        "{\n",
        "    \"gesture_1\": {\n",
        "        \"frames\": 25,\n",
        "        \"weights\": 20,\n",
        "        \"group\": \"idle\"\n",
        "    },\n",
        "    \"gesture_2\": {\n",
        "        \"frames\": 30,\n",
        "        \"weights\": 15,\n",
        "        \"group\": \"left\"\n",
        "    },\n",
        "    \"gesture_3\": {\n",
        "        \"frames\": 60,\n",
        "        \"weights\": 40,\n",
        "        \"group\": \"left\"\n",
        "    },\n",
        "    \"gesture_4\": {\n",
        "        \"frames\": 25,\n",
        "        \"weights\": 20\n",
        "    }\n",
        "}"
      ],
      "metadata": {
        "id": "bnWYhxCs4oeF"
      }
    },
    {
      "cell_type": "markdown",
      "source": [
        "This is what we want-: self.organized_gestures = {\n",
        "    \"idle\": {\n",
        "        \"gesture_1\": {\n",
        "            \"frames\": 25,\n",
        "            \"weights\": 20\n",
        "        }\n",
        "    }\n",
        "}\n"
      ],
      "metadata": {
        "id": "OcWU2mDW67Zl"
      }
    },
    {
      "cell_type": "code",
      "source": [
        "#creating a method that will recognize the group\n",
        "for gestures, details in self.gestures.items():\n",
        "  #1st lets assign default for dict(gesture) where group is not mentioned\n",
        "  #also .get(keyname,value) --> syntax\n",
        "  group = details.get(\"group\", \"default\") #if group name is there it will be assigned as value. i.e group = 'idle'\n",
        "  if group not in self.organized_gesture:\n",
        "    self.organized_gesture[group] = {}\n",
        "    self.organized_gesture[group][gestures] = {\n",
        "        \"frames\": details[\"frames\"],\n",
        "        \"weights\": details[\"weights\"]\n",
        "  }\n",
        "\n"
      ],
      "metadata": {
        "id": "3O6JB_WwrT_E"
      },
      "execution_count": null,
      "outputs": []
    }
  ]
}