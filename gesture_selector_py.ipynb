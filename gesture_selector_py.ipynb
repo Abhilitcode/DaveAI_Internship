{
  "nbformat": 4,
  "nbformat_minor": 0,
  "metadata": {
    "colab": {
      "provenance": [],
      "gpuType": "T4",
      "include_colab_link": true
    },
    "kernelspec": {
      "name": "python3",
      "display_name": "Python 3"
    },
    "language_info": {
      "name": "python"
    },
    "accelerator": "GPU"
  },
  "cells": [
    {
      "cell_type": "markdown",
      "metadata": {
        "id": "view-in-github",
        "colab_type": "text"
      },
      "source": [
        "<a href=\"https://colab.research.google.com/github/Abhilitcode/DaveAI_Internship/blob/main/gesture_selector_py.ipynb\" target=\"_parent\"><img src=\"https://colab.research.google.com/assets/colab-badge.svg\" alt=\"Open In Colab\"/></a>"
      ]
    },
    {
      "cell_type": "code",
      "execution_count": null,
      "metadata": {
        "id": "R-JPGHaVn4r4"
      },
      "outputs": [],
      "source": [
        "#create a class that will include the gestures n group organized methods\n",
        "class gesture_selector:\n",
        "  # Initializes the class with a dictionary of gestures.\n",
        "  def __init__(self, gestures_dict):\n",
        "    self.gestures = gestures_dict\n",
        "    #we will here initilaize the empty dict here so that we can store the gestures\n",
        "    self.organized_gesture = {}\n",
        "    self.organized_group()"
      ]
    },
    {
      "cell_type": "markdown",
      "source": [
        "{\n",
        "    \"gesture_1\": {\n",
        "        \"frames\": 25,\n",
        "        \"weights\": 20,\n",
        "        \"group\": \"idle\"\n",
        "    },\n",
        "    \"gesture_2\": {\n",
        "        \"frames\": 30,\n",
        "        \"weights\": 15,\n",
        "        \"group\": \"left\"\n",
        "    },\n",
        "    \"gesture_3\": {\n",
        "        \"frames\": 60,\n",
        "        \"weights\": 40,\n",
        "        \"group\": \"left\"\n",
        "    },\n",
        "    \"gesture_4\": {\n",
        "        \"frames\": 25,\n",
        "        \"weights\": 20\n",
        "    }\n",
        "}"
      ],
      "metadata": {
        "id": "bnWYhxCs4oeF"
      }
    },
    {
      "cell_type": "markdown",
      "source": [
        "This is what we want-: self.organized_gestures = {\n",
        "    \"idle\": {\n",
        "        \"gesture_1\": {\n",
        "            \"frames\": 25,\n",
        "            \"weights\": 20\n",
        "        }\n",
        "    }\n",
        "}\n"
      ],
      "metadata": {
        "id": "OcWU2mDW67Zl"
      }
    },
    {
      "cell_type": "code",
      "source": [
        "#creating a method that will recognize the group\n",
        "def oragnized_by_groups(self):\n",
        "  for gestures, details in self.gestures.items():\n",
        "    #1st lets assign default for dict(gesture) where group is not mentioned\n",
        "    #also .get(keyname,value) --> syntax\n",
        "    group = details.get(\"group\", \"default\") #if group name is there it will be assigned as value. i.e group = 'idle'\n",
        "    if group not in self.organized_gesture:\n",
        "      self.organized_gesture[group] = {}\n",
        "    self.organized_gesture[group][gestures] = {\n",
        "        \"frames\": details[\"frames\"],\n",
        "        \"weights\": details[\"weights\"]\n",
        "    }\n",
        "\n"
      ],
      "metadata": {
        "id": "3O6JB_WwrT_E"
      },
      "execution_count": null,
      "outputs": []
    },
    {
      "cell_type": "markdown",
      "source": [
        "Lets first integrate above methods and class and test them-:"
      ],
      "metadata": {
        "id": "ure9wEvuAp-w"
      }
    },
    {
      "cell_type": "code",
      "source": [
        "#create a class that will include the gestures n group organized methods\n",
        "class Gesture_selector:\n",
        "  # Initializes the class with a dictionary of gestures.\n",
        "  def __init__(self, gestures_dict):\n",
        "    self.gestures = gestures_dict\n",
        "    #we will here initilaize the empty dict here so that we can store the gestures based on groups\n",
        "    self.organized_gesture = {}\n",
        "    self.oragnized_by_groups()\n",
        "\n",
        "  #creating a method that will recognize the group\n",
        "  def oragnized_by_groups(self):\n",
        "    for gestures, details in self.gestures.items():\n",
        "      #1st lets assign default for dict(gesture) where group is not mentioned\n",
        "      #also .get(keyname,value) --> syntax\n",
        "      group = details.get(\"group\", \"default\") #if group name is there it will be assigned as value. i.e group = 'idle'\n",
        "      if group not in self.organized_gesture:\n",
        "        self.organized_gesture[group] = {}\n",
        "      self.organized_gesture[group][gestures] = {\n",
        "          \"frames\": details[\"frames\"],\n",
        "          \"weights\": details[\"weights\"]\n",
        "      }"
      ],
      "metadata": {
        "id": "n-DwStjXApsZ"
      },
      "execution_count": null,
      "outputs": []
    },
    {
      "cell_type": "code",
      "source": [
        "gestures = {\n",
        "    \"gesture_1\": {\"frames\": 25, \"weights\": 20, \"group\": \"idle\"},\n",
        "    \"gesture_2\": {\"frames\": 30, \"weights\": 15, \"group\": \"left\"},\n",
        "    \"gesture_3\": {\"frames\": 60, \"weights\": 40, \"group\": \"left\"},\n",
        "    \"gesture_4\": {\"frames\": 25, \"weights\": 20}  # No group provided\n",
        "}"
      ],
      "metadata": {
        "id": "eyXDaeykCWNg"
      },
      "execution_count": null,
      "outputs": []
    },
    {
      "cell_type": "code",
      "source": [
        "selector = Gesture_selector(gestures)\n",
        "print(selector.organized_gesture)"
      ],
      "metadata": {
        "colab": {
          "base_uri": "https://localhost:8080/"
        },
        "id": "TLJ6IaZ4Cebg",
        "outputId": "53a2504e-001d-4faf-c19b-aee244521dc3"
      },
      "execution_count": null,
      "outputs": [
        {
          "output_type": "stream",
          "name": "stdout",
          "text": [
            "{'idle': {'gesture_1': {'frames': 25, 'weights': 20}}, 'left': {'gesture_2': {'frames': 30, 'weights': 15}, 'gesture_3': {'frames': 60, 'weights': 40}}, 'default': {'gesture_4': {'frames': 25, 'weights': 20}}}\n"
          ]
        }
      ]
    },
    {
      "cell_type": "markdown",
      "source": [
        " Given the output above, create a function in the class that would do the following.\n",
        "a. The function should check the number of frames and whether they would fit within a time_range.\n",
        "For example given 2 seconds. It should convert 2 seconds to frames by multiplying by 25 or the frame_rate.\n",
        "So after the given number of frames within the time_range, the function would only select the gestures that have the value less than or equal to the time_range frames\n",
        "b. From the gestures that remain, create a probabilistic approach where we get the maximum fit of gestures based on the weights provided above\n",
        "i.e. Say we have 5 gestures with weights 7, 4, 3, 4 and 6 and the gestures have 50, 25, 32, 28 and 60 frames respectively, and we have a time_range of 5seconds.\n",
        "The function would process as follows:\n",
        "- convert 5 to frames => 5*25=125\n",
        "- based on the weights and frames select the gestures that would result in a number less than and closest to 125 while considering the weight of each gesture.\n",
        "- after getting the best fit for that time_range, assign start times and end_times for each gesture based on the number of frames.\n",
        "c. After selection of each gesture, we should reduce the weight of the gesture by the number of times the gesture is selected.\n",
        "d. the output of the function should be something like"
      ],
      "metadata": {
        "id": "Ltm3s9giXznd"
      }
    },
    {
      "cell_type": "markdown",
      "source": [
        "Purpose: We are converting the time_range from seconds to frames.\n",
        "Explanation: The gestures are stored with information about how many frames they occupy, but the input we receive from the user specifies the time range in seconds. Since animations work based on frames, we need to convert this time range to a number of frames.\n",
        "\n",
        " all_gestures = []\n",
        "Purpose: Initialize an empty list to store all gestures in a flattened form.\n",
        "Explanation: The self.organized_gestures dictionary organizes gestures by their groups (e.g., \"idle\", \"left\", \"right\"). In this step, we want to gather all the gestures, regardless of group, into a flat list. This is because we need to evaluate all gestures in order of their weights, not by group.\n",
        "\n",
        "Purpose: Initialize an empty list where we will store the gestures that are selected to fit within the total_frames.\n",
        "Explanation: As we iterate through available gestures, we will select some of them based on their frames and weights. We need a place to store these selected gestures, which is what the selected_gestures list will be used for."
      ],
      "metadata": {
        "id": "e3Dht3y0vaSU"
      }
    },
    {
      "cell_type": "code",
      "source": [
        "def gesture_time_range(self, time_range, frame_rate=25):\n",
        "  ## List to store the selected gestures\n",
        "  selected_gestures = []\n",
        "  #Initialize an empty list to store all gestures in a flattened form\n",
        "  all_gestures = []\n",
        "  # time_range from seconds to frames\n",
        "  total_frames = time_range * frame_rate\n",
        "  for group, gestures in self.organized_gesture.items():\n",
        "    for gestures, details in gestures.items():\n",
        "      all_gestures.append((gestures, details))\n",
        "\n",
        "  # Sort gestures by weights (higher weight first)\n",
        "  all_gestures.sort(key=lambda x : x[1]['weights'], reverse=True)\n",
        "\n",
        "\n"
      ],
      "metadata": {
        "id": "v94zRGlfXy5m"
      },
      "execution_count": null,
      "outputs": []
    },
    {
      "cell_type": "markdown",
      "source": [
        "Lets integrate and test first"
      ],
      "metadata": {
        "id": "KrhCCLRNHoJV"
      }
    },
    {
      "cell_type": "code",
      "source": [
        "#create a class that will include the gestures n group organized methods\n",
        "class Gesture_selector:\n",
        "  # Initializes the class with a dictionary of gestures.\n",
        "  def __init__(self, gestures_dict):\n",
        "    self.gestures = gestures_dict\n",
        "    #we will here initilaize the empty dict here so that we can store the gestures based on groups\n",
        "    self.organized_gesture = {}\n",
        "    self.oragnized_by_groups()\n",
        "\n",
        "  #creating a method that will recognize the group\n",
        "  def oragnized_by_groups(self):\n",
        "    for gestures, details in self.gestures.items():\n",
        "      #1st lets assign default for dict(gesture) where group is not mentioned\n",
        "      #also .get(keyname,value) --> syntax\n",
        "      group = details.get(\"group\", \"default\") #if group name is there it will be assigned as value. i.e group = 'idle'\n",
        "      if group not in self.organized_gesture:\n",
        "        self.organized_gesture[group] = {}\n",
        "      self.organized_gesture[group][gestures] = {\n",
        "          \"frames\": details[\"frames\"],\n",
        "          \"weights\": details[\"weights\"]\n",
        "      }\n",
        "\n",
        "  def gesture_time_range(self, time_range, frame_rate=25):\n",
        "  ## List to store the selected gestures\n",
        "    selected_gestures = []\n",
        "  #Initialize an empty list to store all gestures in a flattened form\n",
        "    all_gestures = []\n",
        "  # time_range from seconds to frames\n",
        "    total_frames = time_range * frame_rate\n",
        "    for group, gestures in self.organized_gesture.items():\n",
        "      for gestures, details in gestures.items():\n",
        "        all_gestures.append((gestures, details))\n",
        "\n",
        "    # Sort gestures by weights (higher weight first)\n",
        "    all_gestures.sort(key=lambda x : x[1]['weights'], reverse=True)\n",
        "    return all_gestures"
      ],
      "metadata": {
        "id": "OmmRLn6UHrU4"
      },
      "execution_count": null,
      "outputs": []
    },
    {
      "cell_type": "code",
      "source": [
        "gestures = {\n",
        "    \"gesture_1\": {\"frames\": 25, \"weights\": 20, \"group\": \"idle\"},\n",
        "    \"gesture_2\": {\"frames\": 30, \"weights\": 15, \"group\": \"left\"},\n",
        "    \"gesture_3\": {\"frames\": 60, \"weights\": 40, \"group\": \"left\"},\n",
        "    \"gesture_4\": {\"frames\": 25, \"weights\": 20}  # No group provided\n",
        "}"
      ],
      "metadata": {
        "id": "SLvqB9Q0Ilx0"
      },
      "execution_count": null,
      "outputs": []
    },
    {
      "cell_type": "code",
      "source": [
        "selector = Gesture_selector(gestures)\n",
        "print(selector.organized_gesture)\n"
      ],
      "metadata": {
        "colab": {
          "base_uri": "https://localhost:8080/"
        },
        "id": "IoYQPEZoIFi_",
        "outputId": "c89481dc-330f-4a3a-d342-4bca4e828e4f"
      },
      "execution_count": null,
      "outputs": [
        {
          "output_type": "stream",
          "name": "stdout",
          "text": [
            "{'idle': {'gesture_1': {'frames': 25, 'weights': 20}}, 'left': {'gesture_2': {'frames': 30, 'weights': 15}, 'gesture_3': {'frames': 60, 'weights': 40}}, 'default': {'gesture_4': {'frames': 25, 'weights': 20}}}\n"
          ]
        }
      ]
    },
    {
      "cell_type": "code",
      "source": [
        "#succesfully sorted by higher weights\n",
        "print(selector.gesture_time_range(5,25))"
      ],
      "metadata": {
        "colab": {
          "base_uri": "https://localhost:8080/"
        },
        "id": "V9CXxkrJIFgM",
        "outputId": "108e0475-e97d-484d-f14a-eeb5e9318d64"
      },
      "execution_count": null,
      "outputs": [
        {
          "output_type": "stream",
          "name": "stdout",
          "text": [
            "[('gesture_3', {'frames': 60, 'weights': 40}), ('gesture_1', {'frames': 25, 'weights': 20}), ('gesture_4', {'frames': 25, 'weights': 20}), ('gesture_2', {'frames': 30, 'weights': 15})]\n"
          ]
        }
      ]
    },
    {
      "cell_type": "markdown",
      "source": [
        "This is a deterministic appraoch"
      ],
      "metadata": {
        "id": "_F7xJQNxFpa4"
      }
    },
    {
      "cell_type": "code",
      "source": [
        "# #selecting the gestures based on weights\n",
        "# current_frame = 0\n",
        "# for gestures, details in all_gestures:\n",
        "#   if current_frame + details['frames'] <= total_frames:\n",
        "#     selected_gestures.append({\n",
        "#         'gesture': gestures,\n",
        "#         'start_time': current_frame,\n",
        "#         'end_time': current_frame + details['frames']\n",
        "#     })\n",
        "#     #update the current frame\n",
        "#     current_frame += details['frames']\n",
        "#     #decrement the weights depending on how many times it got selected\n",
        "#     details['weights'] -= 1"
      ],
      "metadata": {
        "id": "KrSwR5PSIFc0"
      },
      "execution_count": null,
      "outputs": []
    },
    {
      "cell_type": "markdown",
      "source": [],
      "metadata": {
        "id": "n6iZidpk3vT7"
      }
    },
    {
      "cell_type": "code",
      "source": [],
      "metadata": {
        "id": "ztYczNiuIFZF"
      },
      "execution_count": null,
      "outputs": []
    },
    {
      "cell_type": "markdown",
      "source": [
        "Lets code for probabilistic appraoch by adding gestures based on weights."
      ],
      "metadata": {
        "id": "HJugTlZyHKBW"
      }
    },
    {
      "cell_type": "code",
      "source": [
        "#above fucntions are good except we need to remove sorting thing. lets continue\n",
        "current_frame = 0\n",
        "while current_frame < total_frames and all_gestures:\n",
        "  gestures = []\n",
        "  weights = []\n",
        "  #extract the gestures names and their weights\n",
        "  for gestures, details in all_gestures:\n",
        "    gestures.append(gestures)\n",
        "    weights.append(details['weights'])\n",
        "\n",
        "    #using random method we will probabilistically chhose a gestures\n",
        "    chosen_gesture = random.choices(gestures, weights)[0]\n",
        "\n",
        "    #get the details of the gesture\n",
        "    chosen_details = None\n",
        "    for gestures, details in all_gestures:\n",
        "      if chosen_gesture == gestures:\n",
        "        #if gesture is same then we will get the details stored here\n",
        "        chosen_details = details\n",
        "        break\n",
        "    frames = chosen_details['frames']\n",
        "    if current_frame + frames <= total_frames:\n",
        "      selected_gestures.append({\n",
        "          'gesture': chosen_gesture,\n",
        "          'start_time': current_frame,\n",
        "          'end_time': current_frame + frames\n",
        "      })\n",
        "\n",
        "    current_frame += frames\n",
        "result = []\n",
        "for gesture_data in selected_gestures:\n",
        "  start_time = gesture_data['start_frame'] / frame_rate\n",
        "  result.append([start_time, gesture_data['gestures']])\n",
        "return result\n",
        "\n",
        "  #ignore the weight approach for now\n",
        "    # #Lets calculate total weights for reduction\n",
        "    # total_weight = sum(details['weights'] for gestures,weights in all_gestures)\n",
        "    # reduction_amount = (chosen_details['weights'] / total_weight) * total_weight\n",
        "    # chosen_details['weights'] -= reduction_amount\n",
        "\n",
        "\n"
      ],
      "metadata": {
        "id": "tFAFG5YDHOyH"
      },
      "execution_count": null,
      "outputs": []
    },
    {
      "cell_type": "code",
      "source": [
        "import random\n",
        "\n",
        "# Create a class that will include the gestures organized by groups\n",
        "class GestureSelector:\n",
        "    # Initializes the class with a dictionary of gestures.\n",
        "    def __init__(self, gestures_dict):\n",
        "        self.gestures = gestures_dict\n",
        "        # Initialize an empty dict to store the gestures based on groups\n",
        "        self.organized_gesture = {}\n",
        "        self.organized_by_groups()\n",
        "\n",
        "    # Creating a method that organizes gestures by their group\n",
        "    def organized_by_groups(self):\n",
        "        for gesture, details in self.gestures.items():\n",
        "            # Assign default for dict(gesture) where group is not mentioned\n",
        "            group = details.get(\"group\", \"default\")  # Default group if not specified\n",
        "            if group not in self.organized_gesture:\n",
        "                self.organized_gesture[group] = {}\n",
        "            self.organized_gesture[group][gesture] = {\n",
        "                \"frames\": details[\"frames\"],\n",
        "                \"weights\": details[\"weights\"]\n",
        "            }\n",
        "\n",
        "    def gesture_time_range(self, time_range, frame_rate=25):\n",
        "        # List to store the selected gestures\n",
        "        selected_gestures = []\n",
        "        # Total time limit in frames\n",
        "        total_frames = time_range * frame_rate\n",
        "\n",
        "        # Loop through each group and select gestures independently\n",
        "        for group, gestures in self.organized_gesture.items():\n",
        "            # Get the gesture names and their weights\n",
        "            gesture_names = list(gestures.keys())\n",
        "            weights = [details['weights'] for details in gestures.values()]\n",
        "\n",
        "            # Use random method to probabilistically choose a gesture\n",
        "            chosen_gesture = random.choices(gesture_names, weights)[0]\n",
        "            chosen_details = gestures[chosen_gesture]\n",
        "\n",
        "            frames = chosen_details['frames']\n",
        "\n",
        "            # Check if adding this gesture exceeds the total time limit\n",
        "            if frames <= total_frames:\n",
        "                selected_gestures.append({\n",
        "                    'gesture': chosen_gesture,\n",
        "                    'start_time': 0,  # Start time for this gesture\n",
        "                    'end_time': frames\n",
        "                })\n",
        "                # Reduce the available frames by the number of frames used\n",
        "                total_frames -= frames\n",
        "\n",
        "        # Convert selected gestures into output format with timestamps\n",
        "        result = []\n",
        "        for gesture_data in selected_gestures:\n",
        "            start_time = gesture_data['start_time'] / frame_rate  # Convert frame count to seconds\n",
        "            result.append([start_time, gesture_data['gesture']])\n",
        "\n",
        "        return result\n"
      ],
      "metadata": {
        "id": "b6M2pJNbJEce"
      },
      "execution_count": 49,
      "outputs": []
    },
    {
      "cell_type": "code",
      "source": [
        "# Example gestures dictionary\n",
        "gestures_dict = {\n",
        "    \"gesture_1\": {\"frames\": 30, \"weights\": 0.5, \"group\": \"greeting\"},\n",
        "    \"gesture_2\": {\"frames\": 20, \"weights\": 0.3, \"group\": \"greeting\"},\n",
        "    \"gesture_3\": {\"frames\": 25, \"weights\": 0.2, \"group\": \"farewell\"},\n",
        "    \"gesture_4\": {\"frames\": 15, \"weights\": 0.6, \"group\": \"farewell\"},\n",
        "    \"gesture_5\": {\"frames\": 10, \"weights\": 0.4, \"group\": \"default\"},\n",
        "}"
      ],
      "metadata": {
        "id": "TdHE9mpidu3O"
      },
      "execution_count": 57,
      "outputs": []
    },
    {
      "cell_type": "code",
      "source": [
        "selector = Gesture_selector(gestures)"
      ],
      "metadata": {
        "id": "vpmugUzrdzRa"
      },
      "execution_count": 58,
      "outputs": []
    },
    {
      "cell_type": "code",
      "source": [
        "result = selector.gesture_time_range(5,25)"
      ],
      "metadata": {
        "id": "9w573n47dzN8"
      },
      "execution_count": 59,
      "outputs": []
    },
    {
      "cell_type": "markdown",
      "source": [
        "we got our required output"
      ],
      "metadata": {
        "id": "8Ye3Su8xfkSZ"
      }
    },
    {
      "cell_type": "code",
      "source": [
        "print(result)"
      ],
      "metadata": {
        "id": "qwdnRgjneHHW",
        "outputId": "e4837bbc-01cb-4a48-cec3-98936d877e4c",
        "colab": {
          "base_uri": "https://localhost:8080/"
        }
      },
      "execution_count": 60,
      "outputs": [
        {
          "output_type": "stream",
          "name": "stdout",
          "text": [
            "[[0.0, 'gesture_1'], [0.0, 'gesture_1'], [0.0, 'gesture_1'], [0.0, 'gesture_1'], [0.0, 'gesture_1']]\n"
          ]
        }
      ]
    },
    {
      "cell_type": "code",
      "source": [
        "#testing\n",
        "import random\n",
        "\n",
        "# Create a class that will include the gestures organized by groups\n",
        "class GestureSelector:\n",
        "    # Initializes the class with a dictionary of gestures.\n",
        "    def __init__(self, gestures_dict):\n",
        "        self.gestures = gestures_dict\n",
        "        # Initialize an empty dict to store the gestures based on groups\n",
        "        self.organized_gesture = {}\n",
        "        self.organized_by_groups()\n",
        "\n",
        "    # Creating a method that organizes gestures by their group\n",
        "    def organized_by_groups(self):\n",
        "        for gesture, details in self.gestures.items():\n",
        "            # Assign default for dict(gesture) where group is not mentioned\n",
        "            group = details.get(\"group\", \"default\")  # Default group if not specified\n",
        "            if group not in self.organized_gesture:\n",
        "                self.organized_gesture[group] = {}\n",
        "            self.organized_gesture[group][gesture] = {\n",
        "                \"frames\": details[\"frames\"],\n",
        "                \"weights\": details[\"weights\"]\n",
        "            }\n",
        "\n",
        "    def gesture_time_range(self, time_range, frame_rate=25):\n",
        "        # List to store the selected gestures\n",
        "        selected_gestures = []\n",
        "        # Total time limit in frames\n",
        "        total_frames = time_range * frame_rate\n",
        "\n",
        "        # Loop through each group and select gestures independently\n",
        "        for group, gestures in self.organized_gesture.items():\n",
        "            # Get the gesture names and their weights\n",
        "            gesture_names = list(gestures.keys())\n",
        "            weights = [details['weights'] for details in gestures.values()]\n",
        "\n",
        "            # Use random method to probabilistically choose a gesture\n",
        "            chosen_gesture = random.choices(gesture_names, weights)[0]\n",
        "            chosen_details = gestures[chosen_gesture]\n",
        "\n",
        "            frames = chosen_details['frames']\n",
        "\n",
        "            # Check if adding this gesture exceeds the total time limit\n",
        "            if frames <= total_frames:\n",
        "                selected_gestures.append({\n",
        "                    'gesture': chosen_gesture,\n",
        "                    'start_time': 0,  # Start time for this gesture\n",
        "                    'end_time': frames\n",
        "                })\n",
        "                # Reduce the available frames by the number of frames used\n",
        "                total_frames -= frames\n",
        "\n",
        "        # Convert selected gestures into output format with timestamps\n",
        "        result = []\n",
        "        for gesture_data in selected_gestures:\n",
        "            start_time = gesture_data['start_time'] / frame_rate  # Convert frame count to seconds\n",
        "            result.append([start_time, gesture_data['gesture']])\n",
        "\n",
        "        # # Print debug information\n",
        "        # print(f\"Selected gestures: {selected_gestures}\")\n",
        "        # print(f\"Remaining frames: {total_frames}\")\n",
        "\n",
        "        return result\n"
      ],
      "metadata": {
        "id": "mGLVIDbUeI_X"
      },
      "execution_count": 3,
      "outputs": []
    },
    {
      "cell_type": "code",
      "source": [
        "# Example gestures dictionary\n",
        "gestures_dict = {\n",
        "    \"gesture_1\": {\"frames\": 25, \"weights\": 20, \"group\": \"idle\"},\n",
        "    \"gesture_2\": {\"frames\": 30, \"weights\": 15, \"group\": \"left\"},\n",
        "    \"gesture_3\": {\"frames\": 60, \"weights\": 40, \"group\": \"left\"},\n",
        "    \"gesture_4\": {\"frames\": 25, \"weights\": 20}  # No group provided\n",
        "}\n",
        "\n",
        "# Instantiate the GestureSelector\n",
        "gesture_selector = GestureSelector(gestures_dict)\n",
        "\n",
        "# Get selected gestures for a time range of 5 seconds\n",
        "selected_gestures = gesture_selector.gesture_time_range(5)\n",
        "print(selected_gestures)\n"
      ],
      "metadata": {
        "id": "nb0HEjKs0Rff",
        "outputId": "57f71806-d494-4604-8009-de3d5d105a3b",
        "colab": {
          "base_uri": "https://localhost:8080/"
        }
      },
      "execution_count": 4,
      "outputs": [
        {
          "output_type": "stream",
          "name": "stdout",
          "text": [
            "[[0.0, 'gesture_1'], [0.0, 'gesture_2'], [0.0, 'gesture_4']]\n"
          ]
        }
      ]
    }
  ]
}