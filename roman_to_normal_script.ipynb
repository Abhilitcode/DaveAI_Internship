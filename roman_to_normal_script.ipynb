{
  "nbformat": 4,
  "nbformat_minor": 0,
  "metadata": {
    "colab": {
      "provenance": [],
      "authorship_tag": "ABX9TyPzMexjk4X9TcgPwgL7KRjx",
      "include_colab_link": true
    },
    "kernelspec": {
      "name": "python3",
      "display_name": "Python 3"
    },
    "language_info": {
      "name": "python"
    }
  },
  "cells": [
    {
      "cell_type": "markdown",
      "metadata": {
        "id": "view-in-github",
        "colab_type": "text"
      },
      "source": [
        "<a href=\"https://colab.research.google.com/github/Abhilitcode/DaveAI_Internship/blob/main/roman_to_normal_script.ipynb\" target=\"_parent\"><img src=\"https://colab.research.google.com/assets/colab-badge.svg\" alt=\"Open In Colab\"/></a>"
      ]
    },
    {
      "cell_type": "code",
      "execution_count": 31,
      "metadata": {
        "colab": {
          "base_uri": "https://localhost:8080/"
        },
        "id": "Ghdc8efw2BzH",
        "outputId": "8ded19aa-0fba-406e-e5fc-342cf350654a"
      },
      "outputs": [
        {
          "output_type": "stream",
          "name": "stdout",
          "text": [
            "Requirement already satisfied: uroman in /usr/local/lib/python3.10/dist-packages (1.3.1.1)\n",
            "Requirement already satisfied: regex>=2024.5.15 in /usr/local/lib/python3.10/dist-packages (from uroman) (2024.9.11)\n"
          ]
        }
      ],
      "source": [
        "!pip install uroman"
      ]
    },
    {
      "cell_type": "code",
      "source": [
        "import uroman as ur\n"
      ],
      "metadata": {
        "id": "q6VF27qeeYYD"
      },
      "execution_count": 32,
      "outputs": []
    },
    {
      "cell_type": "code",
      "source": [
        "# Example usage\n",
        "print(uroman.romanize_string('Игорь Стравинский'))  # Example in Cyrillic\n",
        "print(uroman.romanize_string('नेपाल', lcode='hin'))  # Example in Hindi\n",
        "print(uroman.romanize_string('wtedy ujrzałem na jego brzuchu okrągłą czarną ranę'))"
      ],
      "metadata": {
        "colab": {
          "base_uri": "https://localhost:8080/"
        },
        "id": "_YmApAWCfIt0",
        "outputId": "0e634ffd-6f52-491d-85e1-b57b2bab7532"
      },
      "execution_count": 34,
      "outputs": [
        {
          "output_type": "stream",
          "name": "stdout",
          "text": [
            "Igor Stravinsky\n",
            "nepaal\n",
            "wtedy ujrzalem na jego brzuchu okragla czarna rane\n"
          ]
        }
      ]
    },
    {
      "cell_type": "code",
      "source": [
        "print(uroman.romanize_string('关 服务 高端 产品 仍 处于 供不应求 的 局面'))"
      ],
      "metadata": {
        "colab": {
          "base_uri": "https://localhost:8080/"
        },
        "id": "wEEkUjpsg8Le",
        "outputId": "ffe01876-5d90-4cf3-bad5-ab8fb681ffe4"
      },
      "execution_count": 35,
      "outputs": [
        {
          "output_type": "stream",
          "name": "stdout",
          "text": [
            "guan fuwu gaoduan chanpin reng chuyu gongbuyingqiu de jumian\n"
          ]
        }
      ]
    },
    {
      "cell_type": "code",
      "source": [
        "#romanize the script using file\n",
        "uroman.romanize_file(input_filename='temp.txt', output_filename='chinese.jsonl')"
      ],
      "metadata": {
        "id": "YKav0E8Mnkn5"
      },
      "execution_count": 36,
      "outputs": []
    },
    {
      "cell_type": "code",
      "source": [
        "with open('chinese.jsonl','r') as file:\n",
        "  output_content = file.read()\n",
        "  print(output_content)\n",
        "\n",
        "\n"
      ],
      "metadata": {
        "colab": {
          "base_uri": "https://localhost:8080/"
        },
        "id": "e4-jCEwrpNBN",
        "outputId": "a21ae53d-9d3e-414a-d49e-80c7cf0ccdf0"
      },
      "execution_count": 38,
      "outputs": [
        {
          "output_type": "stream",
          "name": "stdout",
          "text": [
            "guan fuwu gaoduan chanpin reng chuyu gongbuyingqiu de jumian\n",
            "\n"
          ]
        }
      ]
    },
    {
      "cell_type": "markdown",
      "source": [
        "Normalizing the romanized text\n"
      ],
      "metadata": {
        "id": "hrUPtsZ3qdB_"
      }
    },
    {
      "cell_type": "code",
      "source": [
        "import re\n",
        "\n",
        "\n",
        "def normalize_uroman(text):\n",
        "    text = text.lower()\n",
        "    text = text.replace(\"’\", \"'\")\n",
        "    text = re.sub(\"([^a-z' ])\", \" \", text)\n",
        "    text = re.sub(' +', ' ', text)\n",
        "    return text.strip()\n",
        "\n",
        "\n",
        "with open(\"text.txt\", \"r\") as f:\n",
        "    for line in f:\n",
        "        text_normalized = normalize_uroman(line)\n",
        "        print(text_normalized)"
      ],
      "metadata": {
        "colab": {
          "base_uri": "https://localhost:8080/"
        },
        "id": "V0178-zIpp3m",
        "outputId": "55c39b51-1ea5-4654-f23b-78fab0a46575"
      },
      "execution_count": 40,
      "outputs": [
        {
          "output_type": "stream",
          "name": "stdout",
          "text": [
            "des v nements d'actualit qui se sont produits durant l'ann e\n"
          ]
        }
      ]
    }
  ]
}