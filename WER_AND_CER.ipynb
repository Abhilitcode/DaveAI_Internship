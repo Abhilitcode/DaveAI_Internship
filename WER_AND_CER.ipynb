{
  "nbformat": 4,
  "nbformat_minor": 0,
  "metadata": {
    "colab": {
      "provenance": [],
      "gpuType": "T4",
      "authorship_tag": "ABX9TyMrUpzbQFGoDK3tkrxWh7T1",
      "include_colab_link": true
    },
    "kernelspec": {
      "name": "python3",
      "display_name": "Python 3"
    },
    "language_info": {
      "name": "python"
    },
    "accelerator": "GPU"
  },
  "cells": [
    {
      "cell_type": "markdown",
      "metadata": {
        "id": "view-in-github",
        "colab_type": "text"
      },
      "source": [
        "<a href=\"https://colab.research.google.com/github/Abhilitcode/DaveAI_Internship/blob/main/WER_AND_CER.ipynb\" target=\"_parent\"><img src=\"https://colab.research.google.com/assets/colab-badge.svg\" alt=\"Open In Colab\"/></a>"
      ]
    },
    {
      "cell_type": "code",
      "execution_count": 1,
      "metadata": {
        "colab": {
          "base_uri": "https://localhost:8080/"
        },
        "id": "oq7qSKIaQFJc",
        "outputId": "e2d6656c-7728-4e23-ffe0-410e33d2a1dc"
      },
      "outputs": [
        {
          "output_type": "stream",
          "name": "stdout",
          "text": [
            "Collecting mishkal\n",
            "  Downloading mishkal-0.4.1-py3-none-any.whl.metadata (11 kB)\n",
            "Collecting alyahmor>=0.1 (from mishkal)\n",
            "  Downloading alyahmor-0.2-py3-none-any.whl.metadata (11 kB)\n",
            "Collecting arramooz-pysqlite>=0.1 (from mishkal)\n",
            "  Downloading arramooz_pysqlite-0.4.2-py3-none-any.whl.metadata (4.0 kB)\n",
            "Collecting asmai>=0.1 (from mishkal)\n",
            "  Downloading asmai-0.1-py3-none-any.whl.metadata (7.2 kB)\n",
            "Collecting libqutrub>=1.0 (from mishkal)\n",
            "  Downloading libqutrub-1.2.4.1-py3-none-any.whl.metadata (7.5 kB)\n",
            "Collecting maskouk-pysqlite>=0.1 (from mishkal)\n",
            "  Downloading maskouk_pysqlite-0.1-py3-none-any.whl.metadata (9.8 kB)\n",
            "Collecting mysam-tagmanager>=0.1 (from mishkal)\n",
            "  Downloading mysam_tagmanager-0.4-py3-none-any.whl.metadata (10 kB)\n",
            "Collecting naftawayh>=0.2 (from mishkal)\n",
            "  Downloading Naftawayh-0.4-py3-none-any.whl.metadata (8.7 kB)\n",
            "Collecting pickledb>=0.9.0 (from mishkal)\n",
            "  Downloading pickleDB-0.9.2.tar.gz (3.7 kB)\n",
            "  Preparing metadata (setup.py) ... \u001b[?25l\u001b[?25hdone\n",
            "Collecting pyarabic>=0.6.2 (from mishkal)\n",
            "  Downloading PyArabic-0.6.15-py3-none-any.whl.metadata (10 kB)\n",
            "Collecting qalsadi>=0.2 (from mishkal)\n",
            "  Downloading qalsadi-0.5-py3-none-any.whl.metadata (12 kB)\n",
            "Collecting sylajone>=0.1 (from mishkal)\n",
            "  Downloading sylajone-0.3.1-py3-none-any.whl.metadata (6.4 kB)\n",
            "Collecting tashaphyne>=0.3.1 (from mishkal)\n",
            "  Downloading Tashaphyne-0.3.6-py3-none-any.whl.metadata (18 kB)\n",
            "Collecting Arabic-Stopwords>=0.4.2 (from alyahmor>=0.1->mishkal)\n",
            "  Downloading Arabic_Stopwords-0.4.3-py3-none-any.whl.metadata (8.9 kB)\n",
            "Requirement already satisfied: six>=1.14.0 in /usr/local/lib/python3.10/dist-packages (from pyarabic>=0.6.2->mishkal) (1.16.0)\n",
            "Collecting codernitydb3 (from qalsadi>=0.2->mishkal)\n",
            "  Downloading codernitydb3-0.6.0.tar.gz (46 kB)\n",
            "\u001b[2K     \u001b[90m━━━━━━━━━━━━━━━━━━━━━━━━━━━━━━━━━━━━━━━━\u001b[0m \u001b[32m46.1/46.1 kB\u001b[0m \u001b[31m3.0 MB/s\u001b[0m eta \u001b[36m0:00:00\u001b[0m\n",
            "\u001b[?25h  Preparing metadata (setup.py) ... \u001b[?25l\u001b[?25hdone\n",
            "Downloading mishkal-0.4.1-py3-none-any.whl (789 kB)\n",
            "\u001b[2K   \u001b[90m━━━━━━━━━━━━━━━━━━━━━━━━━━━━━━━━━━━━━━━━\u001b[0m \u001b[32m789.5/789.5 kB\u001b[0m \u001b[31m20.2 MB/s\u001b[0m eta \u001b[36m0:00:00\u001b[0m\n",
            "\u001b[?25hDownloading alyahmor-0.2-py3-none-any.whl (65 kB)\n",
            "\u001b[2K   \u001b[90m━━━━━━━━━━━━━━━━━━━━━━━━━━━━━━━━━━━━━━━━\u001b[0m \u001b[32m65.1/65.1 kB\u001b[0m \u001b[31m5.7 MB/s\u001b[0m eta \u001b[36m0:00:00\u001b[0m\n",
            "\u001b[?25hDownloading arramooz_pysqlite-0.4.2-py3-none-any.whl (6.3 MB)\n",
            "\u001b[2K   \u001b[90m━━━━━━━━━━━━━━━━━━━━━━━━━━━━━━━━━━━━━━━━\u001b[0m \u001b[32m6.3/6.3 MB\u001b[0m \u001b[31m86.0 MB/s\u001b[0m eta \u001b[36m0:00:00\u001b[0m\n",
            "\u001b[?25hDownloading asmai-0.1-py3-none-any.whl (4.3 MB)\n",
            "\u001b[2K   \u001b[90m━━━━━━━━━━━━━━━━━━━━━━━━━━━━━━━━━━━━━━━━\u001b[0m \u001b[32m4.3/4.3 MB\u001b[0m \u001b[31m89.1 MB/s\u001b[0m eta \u001b[36m0:00:00\u001b[0m\n",
            "\u001b[?25hDownloading libqutrub-1.2.4.1-py3-none-any.whl (138 kB)\n",
            "\u001b[2K   \u001b[90m━━━━━━━━━━━━━━━━━━━━━━━━━━━━━━━━━━━━━━━━\u001b[0m \u001b[32m139.0/139.0 kB\u001b[0m \u001b[31m12.6 MB/s\u001b[0m eta \u001b[36m0:00:00\u001b[0m\n",
            "\u001b[?25hDownloading maskouk_pysqlite-0.1-py3-none-any.whl (6.0 MB)\n",
            "\u001b[2K   \u001b[90m━━━━━━━━━━━━━━━━━━━━━━━━━━━━━━━━━━━━━━━━\u001b[0m \u001b[32m6.0/6.0 MB\u001b[0m \u001b[31m90.5 MB/s\u001b[0m eta \u001b[36m0:00:00\u001b[0m\n",
            "\u001b[?25hDownloading mysam_tagmanager-0.4-py3-none-any.whl (37 kB)\n",
            "Downloading Naftawayh-0.4-py3-none-any.whl (332 kB)\n",
            "\u001b[2K   \u001b[90m━━━━━━━━━━━━━━━━━━━━━━━━━━━━━━━━━━━━━━━━\u001b[0m \u001b[32m332.6/332.6 kB\u001b[0m \u001b[31m21.3 MB/s\u001b[0m eta \u001b[36m0:00:00\u001b[0m\n",
            "\u001b[?25hDownloading PyArabic-0.6.15-py3-none-any.whl (126 kB)\n",
            "\u001b[2K   \u001b[90m━━━━━━━━━━━━━━━━━━━━━━━━━━━━━━━━━━━━━━━━\u001b[0m \u001b[32m126.4/126.4 kB\u001b[0m \u001b[31m11.9 MB/s\u001b[0m eta \u001b[36m0:00:00\u001b[0m\n",
            "\u001b[?25hDownloading qalsadi-0.5-py3-none-any.whl (264 kB)\n",
            "\u001b[2K   \u001b[90m━━━━━━━━━━━━━━━━━━━━━━━━━━━━━━━━━━━━━━━━\u001b[0m \u001b[32m264.3/264.3 kB\u001b[0m \u001b[31m21.8 MB/s\u001b[0m eta \u001b[36m0:00:00\u001b[0m\n",
            "\u001b[?25hDownloading sylajone-0.3.1-py3-none-any.whl (37 kB)\n",
            "Downloading Tashaphyne-0.3.6-py3-none-any.whl (251 kB)\n",
            "\u001b[2K   \u001b[90m━━━━━━━━━━━━━━━━━━━━━━━━━━━━━━━━━━━━━━━━\u001b[0m \u001b[32m251.5/251.5 kB\u001b[0m \u001b[31m21.2 MB/s\u001b[0m eta \u001b[36m0:00:00\u001b[0m\n",
            "\u001b[?25hDownloading Arabic_Stopwords-0.4.3-py3-none-any.whl (360 kB)\n",
            "\u001b[2K   \u001b[90m━━━━━━━━━━━━━━━━━━━━━━━━━━━━━━━━━━━━━━━━\u001b[0m \u001b[32m360.5/360.5 kB\u001b[0m \u001b[31m26.8 MB/s\u001b[0m eta \u001b[36m0:00:00\u001b[0m\n",
            "\u001b[?25hBuilding wheels for collected packages: pickledb, codernitydb3\n",
            "  Building wheel for pickledb (setup.py) ... \u001b[?25l\u001b[?25hdone\n",
            "  Created wheel for pickledb: filename=pickleDB-0.9.2-py3-none-any.whl size=4254 sha256=b184c885952d6f11c221a05781d56ed39f1f53938da72a08881073d69419b6b9\n",
            "  Stored in directory: /root/.cache/pip/wheels/31/99/ef/8bf37f0157e6423a373297de279351af04ad18c4136c3af121\n",
            "  Building wheel for codernitydb3 (setup.py) ... \u001b[?25l\u001b[?25hdone\n",
            "  Created wheel for codernitydb3: filename=codernitydb3-0.6.0-py3-none-any.whl size=59852 sha256=6e7f9733524a12580adb1633cb156d29a8dddd763a7a6c308c47dfdde9fdb867\n",
            "  Stored in directory: /root/.cache/pip/wheels/81/96/96/58346beb99967aa576ad33aa0b75ffd3c7dfa58291bec26d7c\n",
            "Successfully built pickledb codernitydb3\n",
            "Installing collected packages: pickledb, mysam-tagmanager, pyarabic, codernitydb3, tashaphyne, maskouk-pysqlite, libqutrub, asmai, arramooz-pysqlite, Arabic-Stopwords, naftawayh, alyahmor, qalsadi, sylajone, mishkal\n",
            "Successfully installed Arabic-Stopwords-0.4.3 alyahmor-0.2 arramooz-pysqlite-0.4.2 asmai-0.1 codernitydb3-0.6.0 libqutrub-1.2.4.1 maskouk-pysqlite-0.1 mishkal-0.4.1 mysam-tagmanager-0.4 naftawayh-0.4 pickledb-0.9.2 pyarabic-0.6.15 qalsadi-0.5 sylajone-0.3.1 tashaphyne-0.3.6\n"
          ]
        }
      ],
      "source": [
        "!pip install mishkal"
      ]
    },
    {
      "cell_type": "code",
      "source": [
        "!pip install uroman"
      ],
      "metadata": {
        "colab": {
          "base_uri": "https://localhost:8080/"
        },
        "id": "FSnaOH4CQ84_",
        "outputId": "e283bb04-07af-4dc3-c480-a0cdf34c2283"
      },
      "execution_count": 2,
      "outputs": [
        {
          "output_type": "stream",
          "name": "stdout",
          "text": [
            "Collecting uroman\n",
            "  Downloading uroman-1.3.1.1-py3-none-any.whl.metadata (18 kB)\n",
            "Requirement already satisfied: regex>=2024.5.15 in /usr/local/lib/python3.10/dist-packages (from uroman) (2024.9.11)\n",
            "Downloading uroman-1.3.1.1-py3-none-any.whl (930 kB)\n",
            "\u001b[?25l   \u001b[90m━━━━━━━━━━━━━━━━━━━━━━━━━━━━━━━━━━━━━━━━\u001b[0m \u001b[32m0.0/930.7 kB\u001b[0m \u001b[31m?\u001b[0m eta \u001b[36m-:--:--\u001b[0m\r\u001b[2K   \u001b[91m━━━━━━━━━━━━━━━━━━━━━━━━━━━━━\u001b[0m\u001b[90m╺\u001b[0m\u001b[90m━━━━━━━━━━\u001b[0m \u001b[32m675.8/930.7 kB\u001b[0m \u001b[31m20.4 MB/s\u001b[0m eta \u001b[36m0:00:01\u001b[0m\r\u001b[2K   \u001b[90m━━━━━━━━━━━━━━━━━━━━━━━━━━━━━━━━━━━━━━━━\u001b[0m \u001b[32m930.7/930.7 kB\u001b[0m \u001b[31m19.0 MB/s\u001b[0m eta \u001b[36m0:00:00\u001b[0m\n",
            "\u001b[?25hInstalling collected packages: uroman\n",
            "Successfully installed uroman-1.3.1.1\n"
          ]
        }
      ]
    },
    {
      "cell_type": "code",
      "source": [
        "import uroman"
      ],
      "metadata": {
        "id": "_0ffX3nDRUem"
      },
      "execution_count": 3,
      "outputs": []
    },
    {
      "cell_type": "code",
      "source": [
        "ur = uroman.Uroman()"
      ],
      "metadata": {
        "id": "_FjSn3D5Rhtu"
      },
      "execution_count": 4,
      "outputs": []
    },
    {
      "cell_type": "code",
      "source": [
        "from mishkal.tashkeel import TashkeelClass"
      ],
      "metadata": {
        "id": "H49q-M0mRlCF"
      },
      "execution_count": 5,
      "outputs": []
    },
    {
      "cell_type": "code",
      "source": [
        "import re"
      ],
      "metadata": {
        "id": "iBLYM8mSTM9-"
      },
      "execution_count": 6,
      "outputs": []
    },
    {
      "cell_type": "code",
      "source": [
        "#creating a normalized fucntion here\n",
        "def normalize_uroman(text):\n",
        "    text = text.lower()\n",
        "    text = text.replace(\"’\", \"'\")\n",
        "    text = re.sub(\"([^a-z' ])\", \" \", text)\n",
        "    text = re.sub(' +', ' ', text)\n",
        "    return text.strip()"
      ],
      "metadata": {
        "id": "dJGeOj-qSssV"
      },
      "execution_count": 7,
      "outputs": []
    },
    {
      "cell_type": "code",
      "source": [
        "vocalizer = TashkeelClass()"
      ],
      "metadata": {
        "id": "ygIulzgNTrLz"
      },
      "execution_count": 8,
      "outputs": []
    },
    {
      "cell_type": "code",
      "source": [
        "# Arabic Processing\n",
        "arabic_text = \"أين هو مترو الأنفاق؟\"\n",
        "diacritized_text = vocalizer.tashkeel(arabic_text)\n",
        "romanized_arabic_text = ur.romanize_string(diacritized_text)\n",
        "normalized_arabic_text = normalize_uroman(romanized_arabic_text)"
      ],
      "metadata": {
        "id": "hZZHF_sPTPIN"
      },
      "execution_count": 9,
      "outputs": []
    },
    {
      "cell_type": "code",
      "source": [
        "print(\"Diacritized Arabic:\", diacritized_text)\n",
        "print(\"Romanized Arabic:\", romanized_arabic_text)\n",
        "print(\"Normalized Romanized Arabic:\", normalized_arabic_text)"
      ],
      "metadata": {
        "colab": {
          "base_uri": "https://localhost:8080/"
        },
        "id": "kHHWDGjsT1DV",
        "outputId": "fcdc903b-f0c7-4aa3-f6c8-d484edfb98c8"
      },
      "execution_count": 10,
      "outputs": [
        {
          "output_type": "stream",
          "name": "stdout",
          "text": [
            "Diacritized Arabic:  أَيْنٌ هُو مِتْرُوِ الْأَنْفَاقِ ؟\n",
            "Romanized Arabic:  aayn huw mitruwi alaanfaaqi ?\n",
            "Normalized Romanized Arabic: aayn huw mitruwi alaanfaaqi\n"
          ]
        }
      ]
    },
    {
      "cell_type": "code",
      "source": [],
      "metadata": {
        "id": "sl3D2oFNT41O"
      },
      "execution_count": null,
      "outputs": []
    }
  ]
}