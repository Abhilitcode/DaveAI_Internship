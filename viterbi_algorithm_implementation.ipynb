{
  "nbformat": 4,
  "nbformat_minor": 0,
  "metadata": {
    "colab": {
      "provenance": [],
      "authorship_tag": "ABX9TyPatnl5rHjniU1VWbUVOR8U",
      "include_colab_link": true
    },
    "kernelspec": {
      "name": "python3",
      "display_name": "Python 3"
    },
    "language_info": {
      "name": "python"
    }
  },
  "cells": [
    {
      "cell_type": "markdown",
      "metadata": {
        "id": "view-in-github",
        "colab_type": "text"
      },
      "source": [
        "<a href=\"https://colab.research.google.com/github/Abhilitcode/DaveAI_Internship/blob/main/viterbi_algorithm_implementation.ipynb\" target=\"_parent\"><img src=\"https://colab.research.google.com/assets/colab-badge.svg\" alt=\"Open In Colab\"/></a>"
      ]
    },
    {
      "cell_type": "markdown",
      "source": [
        "In Python, using **NumPy**, the differentiation between **2D** and **3D** arrays comes down to the number of dimensions (or axes) they have. Here’s how to differentiate between them in terms of **syntax** and **concept**:\n",
        "\n",
        "### 2D Array (Matrix):\n",
        "- A **2D array** has two dimensions: **rows** and **columns**.\n",
        "- Think of it as a table or matrix where each element is accessed by two indices: one for the row and one for the column.\n",
        "\n",
        "#### Example:\n",
        "```python\n",
        "import numpy as np\n",
        "\n",
        "# 2D Array (Matrix)\n",
        "array_2d = np.array([[1, 2, 3],\n",
        "                     [4, 5, 6],\n",
        "                     [7, 8, 9]])\n",
        "\n",
        "print(array_2d)\n",
        "```\n",
        "\n",
        "**Shape**: A 2D array has a shape of `(rows, columns)`. In this example:\n",
        "```python\n",
        "array_2d.shape  # Output: (3, 3)\n",
        "```\n",
        "This means there are 3 rows and 3 columns.\n",
        "\n",
        "### 3D Array:\n",
        "- A **3D array** adds an additional dimension: **depth** (or layers).\n",
        "- It’s essentially an array of 2D arrays, where each element is accessed by three indices: one for the layer, one for the row, and one for the column.\n",
        "\n",
        "#### Example:\n",
        "```python\n",
        "import numpy as np\n",
        "\n",
        "# 3D Array (Tensor)\n",
        "array_3d = np.array([[[1, 2, 3],\n",
        "                      [4, 5, 6],\n",
        "                      [7, 8, 9]],\n",
        "                     \n",
        "                     [[10, 11, 12],\n",
        "                      [13, 14, 15],\n",
        "                      [16, 17, 18]]])\n",
        "\n",
        "print(array_3d)\n",
        "```\n",
        "\n",
        "**Shape**: A 3D array has a shape of `(layers, rows, columns)`. In this example:\n",
        "```python\n",
        "array_3d.shape  # Output: (2, 3, 3)\n",
        "```\n",
        "This means there are 2 layers (or \"slices\"), and each layer is a 3x3 matrix (3 rows, 3 columns).\n",
        "\n",
        "### Key Differences:\n",
        "\n",
        "1. **Dimensions**:\n",
        "   - **2D array**: Only two indices (rows, columns) are needed to access elements.\n",
        "   - **3D array**: Three indices (layers, rows, columns) are needed to access elements.\n",
        "\n",
        "2. **Shape**:\n",
        "   - **2D array**: `(rows, columns)`, e.g., (3, 3).\n",
        "   - **3D array**: `(layers, rows, columns)`, e.g., (2, 3, 3).\n",
        "\n",
        "### Accessing Elements:\n",
        "\n",
        "- **2D Array**:\n",
        "  To access the element at row 2, column 1 in `array_2d`:\n",
        "  ```python\n",
        "  array_2d[1, 0]  # Output: 4 (2nd row, 1st column)\n",
        "  ```\n",
        "\n",
        "- **3D Array**:\n",
        "  To access the element in the 2nd layer, 2nd row, and 1st column in `array_3d`:\n",
        "  ```python\n",
        "  array_3d[1, 1, 0]  # Output: 13 (2nd layer, 2nd row, 1st column)\n",
        "  ```\n",
        "\n",
        "### When to Use 2D vs 3D Arrays:\n",
        "- **2D arrays** are useful for handling data that can be represented in rows and columns (like tables, matrices).\n",
        "- **3D arrays** are used when you have multiple sets of 2D arrays, such as in:\n",
        "  - **Image processing** (where you have color channels as layers),\n",
        "  - **Video data** (where each frame is a 2D array),\n",
        "  - **Tensors** in machine learning (e.g., multi-dimensional data).\n",
        "\n",
        "In summary:\n",
        "- **2D**: Think rows and columns (table/matrix).\n",
        "- **3D**: Think layers of 2D matrices stacked together."
      ],
      "metadata": {
        "id": "eGRJyxnC69iB"
      }
    },
    {
      "cell_type": "code",
      "execution_count": 1,
      "metadata": {
        "id": "P4Z97QQA1T0P"
      },
      "outputs": [],
      "source": [
        "import numpy as np"
      ]
    },
    {
      "cell_type": "markdown",
      "source": [
        "define states and obsevations"
      ],
      "metadata": {
        "id": "n_1Y6dHs1nkc"
      }
    },
    {
      "cell_type": "code",
      "source": [
        "states = ['Sunny', 'Cloudy', 'Rainy']\n",
        "observations = ['Sunglasses', 'Jacket', 'Umbrella']"
      ],
      "metadata": {
        "id": "AIYzl1N01l-N"
      },
      "execution_count": 2,
      "outputs": []
    },
    {
      "cell_type": "code",
      "source": [
        "n_states = len(states)"
      ],
      "metadata": {
        "id": "cXvG7sjb12m7"
      },
      "execution_count": 3,
      "outputs": []
    },
    {
      "cell_type": "code",
      "source": [
        "n_states"
      ],
      "metadata": {
        "colab": {
          "base_uri": "https://localhost:8080/"
        },
        "id": "Zc2ju44Y18hD",
        "outputId": "080eeb45-ccef-4ef1-9a4b-d76c7d760e96"
      },
      "execution_count": 4,
      "outputs": [
        {
          "output_type": "execute_result",
          "data": {
            "text/plain": [
              "3"
            ]
          },
          "metadata": {},
          "execution_count": 4
        }
      ]
    },
    {
      "cell_type": "code",
      "source": [
        "n_observations = len(observations)"
      ],
      "metadata": {
        "id": "zBak_kZt19qz"
      },
      "execution_count": 5,
      "outputs": []
    },
    {
      "cell_type": "code",
      "source": [
        "n_observations"
      ],
      "metadata": {
        "colab": {
          "base_uri": "https://localhost:8080/"
        },
        "id": "0TzfQDet2MeT",
        "outputId": "b7cfd25a-5c18-419a-8815-4bae04ec69e5"
      },
      "execution_count": 6,
      "outputs": [
        {
          "output_type": "execute_result",
          "data": {
            "text/plain": [
              "3"
            ]
          },
          "metadata": {},
          "execution_count": 6
        }
      ]
    },
    {
      "cell_type": "code",
      "source": [
        "arr = np.array([[1,2,3],[4,5,6],[7,8,9]])"
      ],
      "metadata": {
        "id": "dtVScxxJ2OUT"
      },
      "execution_count": 7,
      "outputs": []
    },
    {
      "cell_type": "code",
      "source": [
        "arr.ndim"
      ],
      "metadata": {
        "colab": {
          "base_uri": "https://localhost:8080/"
        },
        "id": "a_W3vzw33wzD",
        "outputId": "79afd40f-a23c-454b-9372-ea44f1e6769b"
      },
      "execution_count": 8,
      "outputs": [
        {
          "output_type": "execute_result",
          "data": {
            "text/plain": [
              "2"
            ]
          },
          "metadata": {},
          "execution_count": 8
        }
      ]
    },
    {
      "cell_type": "code",
      "source": [
        "arr.shape"
      ],
      "metadata": {
        "colab": {
          "base_uri": "https://localhost:8080/"
        },
        "id": "lMgFXK1F4Lri",
        "outputId": "e76b546c-9543-4c6c-bc7d-2076b0915bee"
      },
      "execution_count": 9,
      "outputs": [
        {
          "output_type": "execute_result",
          "data": {
            "text/plain": [
              "(3, 3)"
            ]
          },
          "metadata": {},
          "execution_count": 9
        }
      ]
    },
    {
      "cell_type": "code",
      "source": [
        "#transition probability sample\n",
        "transition_prob = np.array([[0.7,0.2,0.1],[0.3,0.4,0.3],[0.2,0.3,0.5]])"
      ],
      "metadata": {
        "id": "NAt1l8J66lIi"
      },
      "execution_count": 10,
      "outputs": []
    },
    {
      "cell_type": "code",
      "source": [
        "transition_prob"
      ],
      "metadata": {
        "colab": {
          "base_uri": "https://localhost:8080/"
        },
        "id": "6fj87MMJ7bqJ",
        "outputId": "da709590-6d5d-44b6-d206-ce1b42eb939b"
      },
      "execution_count": 11,
      "outputs": [
        {
          "output_type": "execute_result",
          "data": {
            "text/plain": [
              "array([[0.7, 0.2, 0.1],\n",
              "       [0.3, 0.4, 0.3],\n",
              "       [0.2, 0.3, 0.5]])"
            ]
          },
          "metadata": {},
          "execution_count": 11
        }
      ]
    },
    {
      "cell_type": "code",
      "source": [
        "emission_prob = np.array([[0.8, 0.2, 0.0], [0.2, 0.6, 0.2],  [0.1, 0.3, 0.6]])"
      ],
      "metadata": {
        "id": "8QnpsIDA7dAw"
      },
      "execution_count": 12,
      "outputs": []
    },
    {
      "cell_type": "code",
      "source": [
        "emission_prob"
      ],
      "metadata": {
        "colab": {
          "base_uri": "https://localhost:8080/"
        },
        "id": "8tXURIRK9TLY",
        "outputId": "52a16b0f-4bed-4b71-bb1c-da3ad135b67e"
      },
      "execution_count": 13,
      "outputs": [
        {
          "output_type": "execute_result",
          "data": {
            "text/plain": [
              "array([[0.8, 0.2, 0. ],\n",
              "       [0.2, 0.6, 0.2],\n",
              "       [0.1, 0.3, 0.6]])"
            ]
          },
          "metadata": {},
          "execution_count": 13
        }
      ]
    },
    {
      "cell_type": "markdown",
      "source": [
        "initial_prob: This array gives the probability of starting in each of the possible states. For example:\n",
        "There’s a 60% chance the day starts Sunny, 30% chance it starts Cloudy, and 10% chance it starts Rainy.\n",
        "Why we need it: The initial state is unknown, so we use this to model where we think the system starts."
      ],
      "metadata": {
        "id": "qH6aqOcl-KbZ"
      }
    },
    {
      "cell_type": "code",
      "source": [
        "initial_prob = np.array([0.6, 0.3, 0.1])  # P(Sunny), P(Cloudy), P(Rainy)"
      ],
      "metadata": {
        "id": "AWoubgUk9Ud_"
      },
      "execution_count": 14,
      "outputs": []
    },
    {
      "cell_type": "code",
      "source": [
        "initial_prob"
      ],
      "metadata": {
        "colab": {
          "base_uri": "https://localhost:8080/"
        },
        "id": "JL6-JNAh-HvH",
        "outputId": "dd5fc25a-5cd7-4295-88f8-6c6701d160a7"
      },
      "execution_count": 15,
      "outputs": [
        {
          "output_type": "execute_result",
          "data": {
            "text/plain": [
              "array([0.6, 0.3, 0.1])"
            ]
          },
          "metadata": {},
          "execution_count": 15
        }
      ]
    },
    {
      "cell_type": "code",
      "source": [
        "observation_seq = ['Sunglasses', 'Jacket', 'Umbrella']"
      ],
      "metadata": {
        "id": "k5GlGnLT-Ion"
      },
      "execution_count": 16,
      "outputs": []
    },
    {
      "cell_type": "markdown",
      "source": [
        "In the line `observations.index(obs)`, **`observations`** refers to the list of observable events that you defined earlier in the code:\n",
        "\n",
        "```python\n",
        "observations = ['Sunglasses', 'Jacket', 'Umbrella']\n",
        "```\n",
        "\n",
        "The list `observations` contains the possible things you can observe in your Hidden Markov Model (HMM). Each item in the `observation_sequence` (which represents the observed events) is converted to its corresponding index in this list.\n",
        "\n",
        "For example, if your `observation_sequence` is `['Sunglasses', 'Jacket', 'Umbrella']`, then:\n",
        "- `'Sunglasses'` has an index of `0` in the `observations` list,\n",
        "- `'Jacket'` has an index of `1`,\n",
        "- `'Umbrella'` has an index of `2`.\n",
        "\n",
        "The line `observations.index(obs)` finds the index of a particular observation (`obs`) in the `observations` list, which is later used in the Viterbi algorithm to match the observations with emission probabilities."
      ],
      "metadata": {
        "id": "xE0RXHi-_tnb"
      }
    },
    {
      "cell_type": "code",
      "source": [
        "obs_indices = [observations.index(obs) for obs in observation_seq]"
      ],
      "metadata": {
        "id": "WMf_GUF4_Dcw"
      },
      "execution_count": 17,
      "outputs": []
    },
    {
      "cell_type": "code",
      "source": [
        "obs_indices"
      ],
      "metadata": {
        "colab": {
          "base_uri": "https://localhost:8080/"
        },
        "id": "dq6KelS4_k3e",
        "outputId": "bb5bd3da-c021-44f0-e33c-6c77c778c188"
      },
      "execution_count": 18,
      "outputs": [
        {
          "output_type": "execute_result",
          "data": {
            "text/plain": [
              "[0, 1, 2]"
            ]
          },
          "metadata": {},
          "execution_count": 18
        }
      ]
    },
    {
      "cell_type": "code",
      "source": [
        "T = len(obs_indices)"
      ],
      "metadata": {
        "id": "GJ5M2t2KBx6f"
      },
      "execution_count": 28,
      "outputs": []
    },
    {
      "cell_type": "code",
      "source": [
        "V = np.zeros((n_states, T))"
      ],
      "metadata": {
        "id": "42bNSZdqBtF3"
      },
      "execution_count": 29,
      "outputs": []
    },
    {
      "cell_type": "code",
      "source": [
        "V"
      ],
      "metadata": {
        "colab": {
          "base_uri": "https://localhost:8080/"
        },
        "id": "kGIWzfsBB0HH",
        "outputId": "f59ea9d3-d755-4643-fba2-51727c6a8eaf"
      },
      "execution_count": 30,
      "outputs": [
        {
          "output_type": "execute_result",
          "data": {
            "text/plain": [
              "array([[0., 0., 0.],\n",
              "       [0., 0., 0.],\n",
              "       [0., 0., 0.]])"
            ]
          },
          "metadata": {},
          "execution_count": 30
        }
      ]
    },
    {
      "cell_type": "code",
      "source": [
        "path = np.zeros((n_states, T), dtype=int)"
      ],
      "metadata": {
        "id": "VC6DsjSNECwI"
      },
      "execution_count": 31,
      "outputs": []
    },
    {
      "cell_type": "code",
      "source": [
        "path"
      ],
      "metadata": {
        "colab": {
          "base_uri": "https://localhost:8080/"
        },
        "id": "sclBS2XAEEIX",
        "outputId": "b39798b3-ed38-4a31-8fa9-833a5935845b"
      },
      "execution_count": 32,
      "outputs": [
        {
          "output_type": "execute_result",
          "data": {
            "text/plain": [
              "array([[0, 0, 0],\n",
              "       [0, 0, 0],\n",
              "       [0, 0, 0]])"
            ]
          },
          "metadata": {},
          "execution_count": 32
        }
      ]
    },
    {
      "cell_type": "markdown",
      "source": [
        "Yes, exactly! After the initialization step, for the first observation (**Sunglasses** at time step 0), you will have calculated the initial probability for each state (Sunny, Cloudy, Rainy).\n",
        "\n",
        "Here’s a summary of how those initial probabilities are computed:\n",
        "\n",
        "1. **For Sunny at t=0**:\n",
        "   \\[\n",
        "   V[\\text{Sunny}, 0] = \\text{Initial Prob(Sunny)} \\times \\text{Emission Prob(Sunglasses | Sunny)} = 0.6 \\times 0.8 = 0.48\n",
        "   \\]\n",
        "\n",
        "2. **For Cloudy at t=0**:\n",
        "   \\[\n",
        "   V[\\text{Cloudy}, 0] = \\text{Initial Prob(Cloudy)} \\times \\text{Emission Prob(Sunglasses | Cloudy)} = 0.3 \\times 0.2 = 0.06\n",
        "   \\]\n",
        "\n",
        "3. **For Rainy at t=0**:\n",
        "   \\[\n",
        "   V[\\text{Rainy}, 0] = \\text{Initial Prob(Rainy)} \\times \\text{Emission Prob(Sunglasses | Rainy)} = 0.1 \\times 0.1 = 0.01\n",
        "   \\]\n",
        "\n",
        "These values will be stored in the `V` matrix, which keeps track of the maximum probabilities for each state at each time step.\n",
        "\n",
        "So, for **Sunglasses** (the first observation at `t=0`), the initial probabilities are:\n",
        "- `V[Sunny, 0] = 0.48`\n",
        "- `V[Cloudy, 0] = 0.06`\n",
        "- `V[Rainy, 0] = 0.01`\n",
        "\n",
        "These values represent the likelihood of starting in each state and observing **Sunglasses** at time step 0."
      ],
      "metadata": {
        "id": "Zt8CtLfcJxcU"
      }
    },
    {
      "cell_type": "code",
      "source": [
        "for s in range(n_states):\n",
        "  v[s,0] = initial_prob[s] * emission_prob[s, obs_indices[0]]\n",
        "  path[s,0] = s\n",
        "  print(v[s,0])\n",
        "  print(path)\n"
      ],
      "metadata": {
        "colab": {
          "base_uri": "https://localhost:8080/"
        },
        "id": "4Ycq4PecFCIH",
        "outputId": "96bd8093-11d6-4a38-cb9a-72eadefa63f3"
      },
      "execution_count": 24,
      "outputs": [
        {
          "output_type": "stream",
          "name": "stdout",
          "text": [
            "0.48\n",
            "[[0 0 0]\n",
            " [0 0 0]\n",
            " [0 0 0]]\n",
            "0.06\n",
            "[[0 0 0]\n",
            " [1 0 0]\n",
            " [0 0 0]]\n",
            "0.010000000000000002\n",
            "[[0 0 0]\n",
            " [1 0 0]\n",
            " [2 0 0]]\n"
          ]
        }
      ]
    },
    {
      "cell_type": "code",
      "source": [
        "# Viterbi algorithm implementation\n",
        "def viterbi(obs_indices, transition_prob, emission_prob, initial_prob):\n",
        "    # Number of time steps (observations)\n",
        "    T = len(obs_indices)\n",
        "\n",
        "    # Initialize matrices for storing probabilities and paths\n",
        "    V = np.zeros((n_states, T))  # Stores the maximum probabilities for each state at each time step\n",
        "    path = np.zeros((n_states, T), dtype=int)  # Stores the most likely previous state for each state\n",
        "\n",
        "    # Initialization step: Initialize the first column of V\n",
        "    for s in range(n_states):\n",
        "        V[s, 0] = initial_prob[s] * emission_prob[s, obs_indices[0]]\n",
        "        path[s, 0] = s\n",
        "\n",
        "    # Recursion step: Fill in the rest of V and path matrices\n",
        "    for t in range(1, T):\n",
        "        for s in range(n_states):\n",
        "            # Calculate the max probability for state `s` at time `t`\n",
        "            max_prob = -1\n",
        "            prev_state = -1\n",
        "            for s_prev in range(n_states):\n",
        "                prob = V[s_prev, t-1] * transition_prob[s_prev, s] * emission_prob[s, obs_indices[t]]\n",
        "                if prob > max_prob:\n",
        "                    max_prob = prob\n",
        "                    prev_state = s_prev\n",
        "            V[s, t] = max_prob\n",
        "            path[s, t] = prev_state\n",
        "\n",
        "    # Termination step: Find the most likely final state\n",
        "    best_last_state = np.argmax(V[:, T-1])\n",
        "    best_path = [best_last_state]\n",
        "\n",
        "    # Backtrack through the path matrix to find the best path\n",
        "    for t in range(T-1, 0, -1):\n",
        "        best_last_state = path[best_last_state, t]\n",
        "        best_path.insert(0, best_last_state)\n",
        "\n",
        "    # Convert state indices back to state names\n",
        "    best_path_states = [states[state] for state in best_path]\n",
        "\n",
        "    return best_path_states, V\n",
        "\n",
        "# Run the Viterbi algorithm on the observation sequence\n",
        "best_path, V = viterbi(obs_indices, transition_prob, emission_prob, initial_prob)\n",
        "\n",
        "# Output the result\n",
        "print(\"Most likely sequence of states:\", best_path)\n",
        "print(\"Probability matrix (V):\\n\", V)\n"
      ],
      "metadata": {
        "colab": {
          "base_uri": "https://localhost:8080/"
        },
        "id": "qwOM_z8I_mPW",
        "outputId": "12b5786f-88df-422f-abf3-684faa3b0272"
      },
      "execution_count": 34,
      "outputs": [
        {
          "output_type": "stream",
          "name": "stdout",
          "text": [
            "Most likely sequence of states: ['Sunny', 'Cloudy', 'Rainy']\n",
            "Probability matrix (V):\n",
            " [[0.48     0.0672   0.      ]\n",
            " [0.06     0.0576   0.004608]\n",
            " [0.01     0.0144   0.010368]]\n"
          ]
        }
      ]
    }
  ]
}